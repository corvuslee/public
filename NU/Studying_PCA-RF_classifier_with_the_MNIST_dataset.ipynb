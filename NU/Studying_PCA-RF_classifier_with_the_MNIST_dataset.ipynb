{
 "cells": [
  {
   "cell_type": "markdown",
   "metadata": {},
   "source": [
    "# Studying PCA-RF classifier with the MNIST dataset"
   ]
  },
  {
   "cell_type": "code",
   "execution_count": 1,
   "metadata": {},
   "outputs": [],
   "source": [
    "import pandas as pd\n",
    "import numpy as np\n",
    "import matplotlib.pyplot as plt\n",
    "import datetime\n",
    "\n",
    "### Data prep\n",
    "from sklearn.decomposition import PCA\n",
    "from sklearn.model_selection import train_test_split\n",
    "\n",
    "### Modeling\n",
    "from sklearn.model_selection import GridSearchCV, KFold\n",
    "from sklearn.ensemble import RandomForestClassifier\n",
    "from sklearn.metrics import classification_report"
   ]
  },
  {
   "cell_type": "code",
   "execution_count": 2,
   "metadata": {},
   "outputs": [],
   "source": [
    "# Some common settings\n",
    "pd.set_option('max_columns', None)\n",
    "pd.set_option('max_rows', 100)\n",
    "\n",
    "# Some common variables\n",
    "PATH_DATA = \"./datasets\""
   ]
  },
  {
   "cell_type": "markdown",
   "metadata": {},
   "source": [
    "## Get the dataset"
   ]
  },
  {
   "cell_type": "code",
   "execution_count": 3,
   "metadata": {},
   "outputs": [
    {
     "name": "stdout",
     "output_type": "stream",
     "text": [
      "digit-recognizer.zip: Skipping, found more recently modified local copy (use --force to force download)\r\n"
     ]
    }
   ],
   "source": [
    "!kaggle competitions download -c digit-recognizer -p {PATH_DATA}"
   ]
  },
  {
   "cell_type": "code",
   "execution_count": 4,
   "metadata": {},
   "outputs": [
    {
     "name": "stdout",
     "output_type": "stream",
     "text": [
      "Archive:  ./datasets/digit-recognizer.zip\r\n"
     ]
    }
   ],
   "source": [
    "!unzip -n {PATH_DATA}/digit-recognizer.zip -d {PATH_DATA}"
   ]
  },
  {
   "cell_type": "code",
   "execution_count": 5,
   "metadata": {},
   "outputs": [
    {
     "name": "stdout",
     "output_type": "stream",
     "text": [
      "(42000, 785) (28000, 784)\n"
     ]
    }
   ],
   "source": [
    "# Read the data into _raw np array\n",
    "train_raw = np.loadtxt(f'{PATH_DATA}/train.csv', skiprows=1, delimiter=',')\n",
    "X_test_raw = np.loadtxt(f'{PATH_DATA}/test.csv', skiprows=1, delimiter=',')\n",
    "\n",
    "# Check the shape\n",
    "print(train_raw.shape, X_test_raw.shape)"
   ]
  },
  {
   "cell_type": "code",
   "execution_count": 6,
   "metadata": {},
   "outputs": [
    {
     "name": "stdout",
     "output_type": "stream",
     "text": [
      "(42000, 784) (42000,) (28000, 784)\n"
     ]
    }
   ],
   "source": [
    "# Training set\n",
    "X = train_raw[:, 1:].copy()\n",
    "y = train_raw[:, 0].copy()  # first column is label\n",
    "\n",
    "# Test set\n",
    "X_test = X_test_raw.copy()\n",
    "\n",
    "# Check the shape\n",
    "print(X.shape, y.shape, X_test.shape)"
   ]
  },
  {
   "cell_type": "markdown",
   "metadata": {},
   "source": [
    "## EDA"
   ]
  },
  {
   "cell_type": "markdown",
   "metadata": {},
   "source": [
    "<hr>\n",
    "\n",
    "**Summary:** This MNIST dataset contains 42000 hand-written digits, with each a 28x28 (=784) dimension array. There is no class imbalance, nor contains any missing values.\n",
    "\n",
    "<hr>"
   ]
  },
  {
   "cell_type": "code",
   "execution_count": 7,
   "metadata": {},
   "outputs": [
    {
     "data": {
      "image/png": "[encoded data removed]",
      "text/plain": [
       "<Figure size 864x864 with 6 Axes>"
      ]
     },
     "metadata": {
      "needs_background": "light"
     },
     "output_type": "display_data"
    }
   ],
   "source": [
    "# Print some randomly selected digits\n",
    "size = 6\n",
    "\n",
    "fig, axes = plt.subplots(1, size, figsize=(12, 12))\n",
    "for i, j in enumerate(np.random.randint(0, X.shape[0], size)):\n",
    "    plt.subplot(1, size, i+1)\n",
    "    plt.title(y[j])\n",
    "    plt.imshow(X[j].reshape(28, 28), cmap=\"gray\")"
   ]
  },
  {
   "cell_type": "code",
   "execution_count": 8,
   "metadata": {},
   "outputs": [
    {
     "data": {
      "image/png": "[encoded data removed]",
      "text/plain": [
       "<Figure size 432x288 with 1 Axes>"
      ]
     },
     "metadata": {
      "needs_background": "light"
     },
     "output_type": "display_data"
    }
   ],
   "source": [
    "# How's the label distribution\n",
    "plt.hist(y, bins=10)\n",
    "plt.show()"
   ]
  },
  {
   "cell_type": "code",
   "execution_count": 9,
   "metadata": {},
   "outputs": [
    {
     "name": "stdout",
     "output_type": "stream",
     "text": [
      "Missing values in training set: 0\n",
      "Missing values in test set: 0\n"
     ]
    }
   ],
   "source": [
    "# Any missing values?\n",
    "print(\"Missing values in training set:\", np.isnan(X).sum())\n",
    "print(\"Missing values in test set:\", np.isnan(X_test).sum())"
   ]
  },
  {
   "cell_type": "markdown",
   "metadata": {},
   "source": [
    "## Research design"
   ]
  },
  {
   "cell_type": "markdown",
   "metadata": {},
   "source": [
    "<hr>\n",
    "\n",
    "**Summary:** We will conduct three experiments and evaluate the effects of incorporating PCA in the data preparation pipeline on a) total time required to prepare (if any) and train a random forest (RF) classifier; b) macro F1 score.\n",
    "\n",
    "First, we perform a grid search of the best hyperparameter set for the MNIST dataset, which is `{'bootstrap': True, 'max_features': 'sqrt', 'n_estimators': 100}`. We will use this to construct the RF classifier for the whole study.\n",
    "\n",
    "* **Experiment A, RF classifier:** We will fit the whole training set as-is into the RF model. Performance will be measured by out-of-bag (OOB) accuracy.\n",
    "* **Experiment B, PCA-RF classifier:** Properly split the data into training and validation set. Then by fitting the training set with PCA to retain 95% of the variability in the explanatory variables, followed by a RF model. Performance will be measured by OOB score and also macro F1 score on the validation set.\n",
    "\n",
    "<hr>"
   ]
  },
  {
   "cell_type": "code",
   "execution_count": 10,
   "metadata": {},
   "outputs": [],
   "source": [
    "def print_grid_search_result(gs):\n",
    "    \"\"\"\n",
    "    Print out\n",
    "    * best hyperparameter set\n",
    "    * best CV score\n",
    "    \"\"\"\n",
    "    print('Best hyperparameter set: ', gs.best_params_)\n",
    "    print('Best Macro F1 on CV: ', gs.best_score_)"
   ]
  },
  {
   "cell_type": "raw",
   "metadata": {},
   "source": [
    "###\n",
    "### This grid search takes a long time to run.\n",
    "### Disabled to whole cell.\n",
    "###\n",
    "\n",
    "# parameter grid\n",
    "param_grid = [{\n",
    "    'n_estimators': [100],\n",
    "    'max_features': [None, 'log2', 'sqrt'],\n",
    "    'bootstrap': [True]\n",
    "}]\n",
    "\n",
    "\n",
    "# Random Forest\n",
    "rf = RandomForestClassifier(bootstrap=True, \n",
    "                            random_state=42,\n",
    "                            n_jobs=-1)\n",
    "\n",
    "# Grid search\n",
    "grid_search = GridSearchCV(rf, param_grid,\n",
    "                           cv=KFold(n_splits=5, shuffle=True, random_state=42),\n",
    "                           scoring='f1_macro',\n",
    "                           n_jobs=-1)\n",
    "grid_search.fit(X, y)"
   ]
  },
  {
   "cell_type": "raw",
   "metadata": {},
   "source": [
    "# Grid search result\n",
    "print_grid_search_result(grid_search)\n",
    "\n",
    "# Best hyperparameter set:  {'bootstrap': True, 'max_features': 'sqrt', 'n_estimators': 100}\n",
    "# Best Macro F1 on CV:  0.9639613563197591"
   ]
  },
  {
   "cell_type": "markdown",
   "metadata": {},
   "source": [
    "### Experiment A: Random Forest"
   ]
  },
  {
   "cell_type": "markdown",
   "metadata": {},
   "source": [
    "#### Fit the whole training set to the RF model"
   ]
  },
  {
   "cell_type": "code",
   "execution_count": 11,
   "metadata": {},
   "outputs": [],
   "source": [
    "# Define the RF classifier\n",
    "rf = RandomForestClassifier(n_estimators=100,\n",
    "                            max_features='sqrt',\n",
    "                            bootstrap=True, \n",
    "                            random_state=42,\n",
    "                            oob_score=True,\n",
    "                            n_jobs=-1)"
   ]
  },
  {
   "cell_type": "code",
   "execution_count": 12,
   "metadata": {},
   "outputs": [
    {
     "name": "stdout",
     "output_type": "stream",
     "text": [
      "CPU times: user 40.7 s, sys: 756 ms, total: 41.5 s\n",
      "Wall time: 13.2 s\n"
     ]
    },
    {
     "data": {
      "text/plain": [
       "RandomForestClassifier(bootstrap=True, ccp_alpha=0.0, class_weight=None,\n",
       "                       criterion='gini', max_depth=None, max_features='sqrt',\n",
       "                       max_leaf_nodes=None, max_samples=None,\n",
       "                       min_impurity_decrease=0.0, min_impurity_split=None,\n",
       "                       min_samples_leaf=1, min_samples_split=2,\n",
       "                       min_weight_fraction_leaf=0.0, n_estimators=100,\n",
       "                       n_jobs=-1, oob_score=True, random_state=42, verbose=0,\n",
       "                       warm_start=False)"
      ]
     },
     "execution_count": 12,
     "metadata": {},
     "output_type": "execute_result"
    }
   ],
   "source": [
    "%%time\n",
    "\n",
    "# Measure the time to train the RF classifier\n",
    "rf.fit(X, y)"
   ]
  },
  {
   "cell_type": "code",
   "execution_count": 13,
   "metadata": {},
   "outputs": [
    {
     "data": {
      "text/plain": [
       "0.9618571428571429"
      ]
     },
     "execution_count": 13,
     "metadata": {},
     "output_type": "execute_result"
    }
   ],
   "source": [
    "# Measure the accuracy from out-of-bag samples\n",
    "rf.oob_score_"
   ]
  },
  {
   "cell_type": "markdown",
   "metadata": {},
   "source": [
    "#### Inference and submit to Kaggle"
   ]
  },
  {
   "cell_type": "code",
   "execution_count": 14,
   "metadata": {},
   "outputs": [],
   "source": [
    "# Inference\n",
    "y_test = rf.predict(X_test)"
   ]
  },
  {
   "cell_type": "code",
   "execution_count": 15,
   "metadata": {},
   "outputs": [],
   "source": [
    "# Prepare file for submission\n",
    "submission = pd.DataFrame({'ImageId': list(range(1, 28001, 1)),\n",
    "                           'Label': y_test.astype(int)})\n",
    "submission.to_csv(f'{PATH_DATA}/submission1_rf.csv', index=False)"
   ]
  },
  {
   "attachments": {
    "Screenshot%202020-05-05%20at%2018.57.48.png": {
     "image/png": "[encoded data removed]"
    }
   },
   "cell_type": "markdown",
   "metadata": {},
   "source": [
    "> **Score:** 0.96371  **Time to train the model:** 11s\n",
    "![Screenshot%202020-05-05%20at%2018.57.48.png](attachment:Screenshot%202020-05-05%20at%2018.57.48.png)"
   ]
  },
  {
   "cell_type": "markdown",
   "metadata": {},
   "source": [
    "### Experiment B: PCA-RF"
   ]
  },
  {
   "cell_type": "markdown",
   "metadata": {},
   "source": [
    "#### Fit and transform with PCA"
   ]
  },
  {
   "cell_type": "code",
   "execution_count": 25,
   "metadata": {},
   "outputs": [
    {
     "name": "stdout",
     "output_type": "stream",
     "text": [
      "(42000, 784) (42000,) (28000, 784)\n",
      "(31500, 784) (31500,) (10500, 784) (10500,)\n"
     ]
    }
   ],
   "source": [
    "# Training set\n",
    "X = train_raw[:, 1:].copy()\n",
    "y = train_raw[:, 0].copy()  # first column is label\n",
    "\n",
    "# Test set\n",
    "X_test = X_test_raw.copy()\n",
    "\n",
    "# Check the shape\n",
    "print(X.shape, y.shape, X_test.shape)\n",
    "\n",
    "# Split into training and validation set in 3:1\n",
    "X_train, X_valid, y_train, y_valid = train_test_split(X, y, random_state=42)\n",
    "\n",
    "print(X_train.shape, y_train.shape, X_valid.shape, y_valid.shape)"
   ]
  },
  {
   "cell_type": "code",
   "execution_count": 26,
   "metadata": {},
   "outputs": [],
   "source": [
    "# Construct a PCA to retain .95 variance\n",
    "pca = PCA(n_components=.95, random_state=42)"
   ]
  },
  {
   "cell_type": "markdown",
   "metadata": {},
   "source": [
    "> Note: We didn't perform normalization on X_train as the final model performance is found to be worse."
   ]
  },
  {
   "cell_type": "code",
   "execution_count": 27,
   "metadata": {},
   "outputs": [
    {
     "name": "stdout",
     "output_type": "stream",
     "text": [
      "CPU times: user 5.87 s, sys: 752 ms, total: 6.63 s\n",
      "Wall time: 4.13 s\n"
     ]
    }
   ],
   "source": [
    "%%time\n",
    "\n",
    "# Measure the time to fit (training set only)\n",
    "pca.fit(X_train)\n",
    "\n",
    "# Measure the time to transform (training/validation/test sets)\n",
    "X_train = pca.transform(X_train)\n",
    "X_valid = pca.transform(X_valid)\n",
    "X_test = pca.transform(X_test)"
   ]
  },
  {
   "cell_type": "code",
   "execution_count": 28,
   "metadata": {},
   "outputs": [
    {
     "name": "stdout",
     "output_type": "stream",
     "text": [
      "(31500, 153) (10500, 153) (28000, 153)\n"
     ]
    }
   ],
   "source": [
    "# Verify the shape\n",
    "print(X_train.shape, X_valid.shape, X_test.shape)  # (:, 153)"
   ]
  },
  {
   "cell_type": "markdown",
   "metadata": {},
   "source": [
    "#### Fit the training set to the RF model"
   ]
  },
  {
   "cell_type": "code",
   "execution_count": 29,
   "metadata": {},
   "outputs": [],
   "source": [
    "# Define the RF classifier\n",
    "rf = RandomForestClassifier(n_estimators=100,\n",
    "                            max_features='sqrt',\n",
    "                            bootstrap=True, \n",
    "                            random_state=42,\n",
    "                            oob_score=True,\n",
    "                            n_jobs=-1)"
   ]
  },
  {
   "cell_type": "code",
   "execution_count": 30,
   "metadata": {},
   "outputs": [
    {
     "name": "stdout",
     "output_type": "stream",
     "text": [
      "CPU times: user 58 s, sys: 262 ms, total: 58.2 s\n",
      "Wall time: 15.6 s\n"
     ]
    },
    {
     "data": {
      "text/plain": [
       "RandomForestClassifier(bootstrap=True, ccp_alpha=0.0, class_weight=None,\n",
       "                       criterion='gini', max_depth=None, max_features='sqrt',\n",
       "                       max_leaf_nodes=None, max_samples=None,\n",
       "                       min_impurity_decrease=0.0, min_impurity_split=None,\n",
       "                       min_samples_leaf=1, min_samples_split=2,\n",
       "                       min_weight_fraction_leaf=0.0, n_estimators=100,\n",
       "                       n_jobs=-1, oob_score=True, random_state=42, verbose=0,\n",
       "                       warm_start=False)"
      ]
     },
     "execution_count": 30,
     "metadata": {},
     "output_type": "execute_result"
    }
   ],
   "source": [
    "%%time\n",
    "\n",
    "# Measure the time to train the RF classifier\n",
    "rf.fit(X_train, y_train)"
   ]
  },
  {
   "cell_type": "code",
   "execution_count": 31,
   "metadata": {},
   "outputs": [
    {
     "data": {
      "text/plain": [
       "0.9271111111111111"
      ]
     },
     "execution_count": 31,
     "metadata": {},
     "output_type": "execute_result"
    }
   ],
   "source": [
    "# Measure the accuracy from out-of-bag samples\n",
    "rf.oob_score_"
   ]
  },
  {
   "cell_type": "code",
   "execution_count": 32,
   "metadata": {},
   "outputs": [
    {
     "name": "stdout",
     "output_type": "stream",
     "text": [
      "              precision    recall  f1-score   support\n",
      "\n",
      "         0.0    0.95989   0.98049   0.97008      1025\n",
      "         1.0    0.97489   0.98255   0.97870      1146\n",
      "         2.0    0.93762   0.92537   0.93146      1072\n",
      "         3.0    0.91478   0.91399   0.91439      1151\n",
      "         4.0    0.92885   0.94336   0.93605      1024\n",
      "         5.0    0.91513   0.93653   0.92570       898\n",
      "         6.0    0.95588   0.96535   0.96059      1010\n",
      "         7.0    0.94835   0.93833   0.94331      1135\n",
      "         8.0    0.91795   0.89055   0.90404      1005\n",
      "         9.0    0.93090   0.91199   0.92135      1034\n",
      "\n",
      "    accuracy                        0.93905     10500\n",
      "   macro avg    0.93842   0.93885   0.93857     10500\n",
      "weighted avg    0.93895   0.93905   0.93893     10500\n",
      "\n"
     ]
    }
   ],
   "source": [
    "# Performance on the validation set\n",
    "y_pred = rf.predict(X_valid)\n",
    "\n",
    "print(classification_report(y_valid, y_pred, digits=5))"
   ]
  },
  {
   "cell_type": "markdown",
   "metadata": {},
   "source": [
    "**Observations:** The F1 score for digit 8 and 3 are the worst.\n",
    "\n",
    "#### Look at some wrongly recognized digits"
   ]
  },
  {
   "cell_type": "code",
   "execution_count": 33,
   "metadata": {},
   "outputs": [],
   "source": [
    "def show_wrong_digits(X_valid, y_valid, y_pred, digit, pca):\n",
    "    # Show 6 images\n",
    "    size = 6\n",
    "    # Get the indices where the model made a wrong prediction for the specified digit\n",
    "    idx = np.where((y_pred != digit) & (y_valid == digit))\n",
    "    \n",
    "    # Show the images and predicted labels\n",
    "    fig, axes = plt.subplots(1, size, figsize=(12, 12))\n",
    "    for i, j in enumerate(np.random.choice(idx[0], size, replace=False)):\n",
    "        plt.subplot(1, size, i+1)\n",
    "        plt.title(y_pred[j])\n",
    "        # Transform X back to the original space and plot\n",
    "        plt.imshow(pca.inverse_transform(X_valid[j]).reshape(28, 28), cmap=\"gray\")"
   ]
  },
  {
   "cell_type": "code",
   "execution_count": 34,
   "metadata": {},
   "outputs": [
    {
     "data": {
      "image/png": "[encoded data removed]",
      "text/plain": [
       "<Figure size 864x864 with 6 Axes>"
      ]
     },
     "metadata": {
      "needs_background": "light"
     },
     "output_type": "display_data"
    }
   ],
   "source": [
    "# Show some wrongly recognized digit 8\n",
    "show_wrong_digits(X_valid, y_valid, y_pred, 8, pca)"
   ]
  },
  {
   "cell_type": "code",
   "execution_count": 35,
   "metadata": {},
   "outputs": [
    {
     "data": {
      "image/png": "[encoded data removed]",
      "text/plain": [
       "<Figure size 864x864 with 6 Axes>"
      ]
     },
     "metadata": {
      "needs_background": "light"
     },
     "output_type": "display_data"
    }
   ],
   "source": [
    "# Show some wrongly recognized digit 3\n",
    "show_wrong_digits(X_valid, y_valid, y_pred, 3, pca)"
   ]
  },
  {
   "cell_type": "markdown",
   "metadata": {},
   "source": [
    "#### Retrain combining train/validation set, inference and submit to Kaggle"
   ]
  },
  {
   "cell_type": "code",
   "execution_count": 36,
   "metadata": {},
   "outputs": [
    {
     "name": "stdout",
     "output_type": "stream",
     "text": [
      "(42000, 784) (42000,) (28000, 784)\n"
     ]
    }
   ],
   "source": [
    "# Training set\n",
    "X = train_raw[:, 1:].copy()\n",
    "y = train_raw[:, 0].copy()  # first column is label\n",
    "\n",
    "# Test set\n",
    "X_test = X_test_raw.copy()\n",
    "\n",
    "# Check the shape\n",
    "print(X.shape, y.shape, X_test.shape)"
   ]
  },
  {
   "cell_type": "code",
   "execution_count": 37,
   "metadata": {},
   "outputs": [
    {
     "name": "stdout",
     "output_type": "stream",
     "text": [
      "CPU times: user 1min 22s, sys: 619 ms, total: 1min 22s\n",
      "Wall time: 23 s\n"
     ]
    },
    {
     "data": {
      "text/plain": [
       "RandomForestClassifier(bootstrap=True, ccp_alpha=0.0, class_weight=None,\n",
       "                       criterion='gini', max_depth=None, max_features='sqrt',\n",
       "                       max_leaf_nodes=None, max_samples=None,\n",
       "                       min_impurity_decrease=0.0, min_impurity_split=None,\n",
       "                       min_samples_leaf=1, min_samples_split=2,\n",
       "                       min_weight_fraction_leaf=0.0, n_estimators=100,\n",
       "                       n_jobs=-1, oob_score=True, random_state=42, verbose=0,\n",
       "                       warm_start=False)"
      ]
     },
     "execution_count": 37,
     "metadata": {},
     "output_type": "execute_result"
    }
   ],
   "source": [
    "%%time\n",
    "\n",
    "# Measure the time to transform\n",
    "X = pca.transform(X)\n",
    "X_test = pca.transform(X_test)\n",
    "\n",
    "# Measure the time to train the RF classifier\n",
    "rf.fit(X, y)"
   ]
  },
  {
   "cell_type": "code",
   "execution_count": 38,
   "metadata": {},
   "outputs": [],
   "source": [
    "# Inference\n",
    "y_test = rf.predict(X_test)"
   ]
  },
  {
   "cell_type": "code",
   "execution_count": 39,
   "metadata": {},
   "outputs": [],
   "source": [
    "# Prepare file for submission\n",
    "submission = pd.DataFrame({'ImageId': list(range(1, 28001, 1)),\n",
    "                           'Label': y_test.astype(int)})\n",
    "submission.to_csv(f'{PATH_DATA}/submission3_pca-rf.csv', index=False)"
   ]
  },
  {
   "attachments": {
    "Screenshot%202020-05-06%20at%2019.27.05.png": {
     "image/png": "[encoded data removed]"
    }
   },
   "cell_type": "markdown",
   "metadata": {},
   "source": [
    "> * **Score:** 0.94457\n",
    "* **Time to identify principal components and train the model:** 22s\n",
    "\n",
    "![Screenshot%202020-05-06%20at%2019.27.05.png](attachment:Screenshot%202020-05-06%20at%2019.27.05.png)"
   ]
  },
  {
   "cell_type": "markdown",
   "metadata": {},
   "source": [
    "## Summary"
   ]
  },
  {
   "cell_type": "markdown",
   "metadata": {},
   "source": [
    "<hr>\n",
    "\n",
    "| Experiment | Model | Total Time | Accuracy |\n",
    "| --- | --- | --- | --- |\n",
    "| 1 | Random Forest | 11s | .96371 |\n",
    "| 2 | PCA-RF | 22s | .94457 |\n",
    "\n",
    "**Summary:** Comparing the two methods in the MNIST dataset, obviously Random Forest (without PCA) is the best choice. Not only it has higher accuracy, it also takes less time to train. There are a few possible reasons for this:\n",
    "\n",
    "* Information loss\n",
    " * During the PCA process, we have lost 5% of data variance, which may cause the RF model performing worse.\n",
    "* No tree pre-pruning in place\n",
    " * We allow the tress to grow as deep as it can. PCA-RF may have much deeper trees than RF in this dataset, causing a longer time to train.\n",
    " \n",
    "Generally speaking, in a classification problem we can first try to train a RF model with the original data. If training speed is an issue, try tuning the RF model:\n",
    "\n",
    "* Distribute the training task to multiple CPU cores or even multiple computers\n",
    "* Apply tree pre-pruning, such as setting maximum depth, maximum leaf nodes, etc.\n",
    "* Use other classifiers, such as Extra-Trees\n",
    "\n",
    "<hr>"
   ]
  }
 ],
 "metadata": {
  "kernelspec": {
   "display_name": "Python 3",
   "language": "python",
   "name": "python3"
  },
  "language_info": {
   "codemirror_mode": {
    "name": "ipython",
    "version": 3
   },
   "file_extension": ".py",
   "mimetype": "text/x-python",
   "name": "python",
   "nbconvert_exporter": "python",
   "pygments_lexer": "ipython3",
   "version": "3.8.2"
  },
  "toc": {
   "base_numbering": 1,
   "nav_menu": {},
   "number_sections": true,
   "sideBar": true,
   "skip_h1_title": true,
   "title_cell": "Table of Contents",
   "title_sidebar": "Contents",
   "toc_cell": false,
   "toc_position": {
    "height": "calc(100% - 180px)",
    "left": "10px",
    "top": "150px",
    "width": "288px"
   },
   "toc_section_display": true,
   "toc_window_display": true
  }
 },
 "nbformat": 4,
 "nbformat_minor": 4
}

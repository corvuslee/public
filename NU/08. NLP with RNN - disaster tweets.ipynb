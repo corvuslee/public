{
 "cells": [
  {
   "cell_type": "markdown",
   "metadata": {},
   "source": [
    "# Study architectures for NLP - Disaster tweets dataset\n",
    "\n",
    "Kaggle: https://www.kaggle.com/c/nlp-getting-started"
   ]
  },
  {
   "cell_type": "code",
   "execution_count": 1,
   "metadata": {},
   "outputs": [
    {
     "name": "stdout",
     "output_type": "stream",
     "text": [
      "\u001b[33mWARNING: You are using pip version 20.0.2; however, version 20.1.1 is available.\n",
      "You should consider upgrading via the '/usr/bin/python3 -m pip install --upgrade pip' command.\u001b[0m\n",
      "\u001b[33mWARNING: You are using pip version 20.0.2; however, version 20.1.1 is available.\n",
      "You should consider upgrading via the '/usr/bin/python3 -m pip install --upgrade pip' command.\u001b[0m\n"
     ]
    }
   ],
   "source": [
    "!pip install tensorflow_hub --quiet\n",
    "!pip install chakin --quiet"
   ]
  },
  {
   "cell_type": "code",
   "execution_count": 2,
   "metadata": {},
   "outputs": [],
   "source": [
    "import pandas as pd\n",
    "import numpy as np\n",
    "import time\n",
    "import os\n",
    "import chakin\n",
    "\n",
    "### tf2.x\n",
    "import tensorflow as tf\n",
    "from tensorflow import keras\n",
    "import tensorflow_hub as hub\n",
    "from tensorflow.keras.preprocessing.text import Tokenizer\n",
    "from tensorflow.keras.preprocessing.sequence import pad_sequences\n",
    "\n",
    "### sklearn\n",
    "from sklearn.metrics import classification_report\n",
    "from sklearn.model_selection import train_test_split\n",
    "from sklearn.metrics import roc_auc_score"
   ]
  },
  {
   "cell_type": "code",
   "execution_count": 3,
   "metadata": {},
   "outputs": [],
   "source": [
    "# Global random state\n",
    "np.random.seed(42)\n",
    "tf.random.set_seed(42)\n",
    "\n",
    "# Pandas\n",
    "pd.set_option('max_colwidth', 280)  # display the whole tweet\n",
    "\n",
    "# Some common variables\n",
    "os.chdir('/root/Keras RNN - disaster tweets')\n",
    "PATH_CHECKPOINT = './checkpoints'\n",
    "root_logdir ='s3://tensor.board/disaster_tweets/logs'"
   ]
  },
  {
   "cell_type": "code",
   "execution_count": 4,
   "metadata": {},
   "outputs": [],
   "source": [
    "# Custom functions\n",
    "def reset_keras():\n",
    "    keras.backend.clear_session()\n",
    "    \n",
    "def get_logdir():\n",
    "    run_id = time.strftime(\"run_%Y_%m_%d-%H_%M_%S\")\n",
    "    return os.path.join(root_logdir, run_id)"
   ]
  },
  {
   "cell_type": "markdown",
   "metadata": {},
   "source": [
    "# Get the dataset"
   ]
  },
  {
   "cell_type": "code",
   "execution_count": 5,
   "metadata": {},
   "outputs": [
    {
     "name": "stdout",
     "output_type": "stream",
     "text": [
      "(7613, 5) (3263, 4)\n"
     ]
    }
   ],
   "source": [
    "df_train_raw = pd.read_csv('./train.csv')\n",
    "df_test_raw = pd.read_csv('./test.csv')\n",
    "\n",
    "print(df_train_raw.shape, df_test_raw.shape)"
   ]
  },
  {
   "cell_type": "code",
   "execution_count": 6,
   "metadata": {},
   "outputs": [
    {
     "data": {
      "text/html": [
       "<div>\n",
       "<style scoped>\n",
       "    .dataframe tbody tr th:only-of-type {\n",
       "        vertical-align: middle;\n",
       "    }\n",
       "\n",
       "    .dataframe tbody tr th {\n",
       "        vertical-align: top;\n",
       "    }\n",
       "\n",
       "    .dataframe thead th {\n",
       "        text-align: right;\n",
       "    }\n",
       "</style>\n",
       "<table border=\"1\" class=\"dataframe\">\n",
       "  <thead>\n",
       "    <tr style=\"text-align: right;\">\n",
       "      <th></th>\n",
       "      <th>text</th>\n",
       "      <th>target</th>\n",
       "    </tr>\n",
       "  </thead>\n",
       "  <tbody>\n",
       "    <tr>\n",
       "      <th>0</th>\n",
       "      <td>Our Deeds are the Reason of this #earthquake May ALLAH Forgive us all</td>\n",
       "      <td>1</td>\n",
       "    </tr>\n",
       "    <tr>\n",
       "      <th>1</th>\n",
       "      <td>Forest fire near La Ronge Sask. Canada</td>\n",
       "      <td>1</td>\n",
       "    </tr>\n",
       "    <tr>\n",
       "      <th>2</th>\n",
       "      <td>All residents asked to 'shelter in place' are being notified by officers. No other evacuation or shelter in place orders are expected</td>\n",
       "      <td>1</td>\n",
       "    </tr>\n",
       "    <tr>\n",
       "      <th>3</th>\n",
       "      <td>13,000 people receive #wildfires evacuation orders in California</td>\n",
       "      <td>1</td>\n",
       "    </tr>\n",
       "    <tr>\n",
       "      <th>4</th>\n",
       "      <td>Just got sent this photo from Ruby #Alaska as smoke from #wildfires pours into a school</td>\n",
       "      <td>1</td>\n",
       "    </tr>\n",
       "  </tbody>\n",
       "</table>\n",
       "</div>"
      ],
      "text/plain": [
       "                                                                                                                                    text  \\\n",
       "0                                                                  Our Deeds are the Reason of this #earthquake May ALLAH Forgive us all   \n",
       "1                                                                                                 Forest fire near La Ronge Sask. Canada   \n",
       "2  All residents asked to 'shelter in place' are being notified by officers. No other evacuation or shelter in place orders are expected   \n",
       "3                                                                      13,000 people receive #wildfires evacuation orders in California    \n",
       "4                                               Just got sent this photo from Ruby #Alaska as smoke from #wildfires pours into a school    \n",
       "\n",
       "   target  \n",
       "0       1  \n",
       "1       1  \n",
       "2       1  \n",
       "3       1  \n",
       "4       1  "
      ]
     },
     "execution_count": 6,
     "metadata": {},
     "output_type": "execute_result"
    }
   ],
   "source": [
    "# Make a copy to avoid modifying the original dataset\n",
    "df = df_train_raw[['text', 'target']].copy()  # Make use of only the text field for NLP experiment\n",
    "\n",
    "df.head()"
   ]
  },
  {
   "cell_type": "markdown",
   "metadata": {},
   "source": [
    "# EDA & data processing\n",
    "\n",
    "<hr>\n",
    "\n",
    "The Disaster Tweets dataset contains 7613 records (i.e., tweets) in the training set and 3623 in the test set. As the dataset is not big, we will achieve much better performance by relying on pretrained model and/or word vectors. There is a slight class imbalance (0: 57.4%, 1: 42.6%), which does not need to be fixed. Moreoever, the dataset requires minimal preprocessing:\n",
    "\n",
    "* Deduplicate records (same text and same target)\n",
    "* Drop contradictive records (same text but opposite target)\n",
    "\n",
    "Below is a list of text processing which we have decided not to perform, as we have tested the methods do not have much impact to the model performance.\n",
    "\n",
    "* Stop word removal\n",
    "* URL replacement\n",
    "\n",
    "<hr>"
   ]
  },
  {
   "cell_type": "code",
   "execution_count": 7,
   "metadata": {},
   "outputs": [
    {
     "data": {
      "text/html": [
       "<div>\n",
       "<style scoped>\n",
       "    .dataframe tbody tr th:only-of-type {\n",
       "        vertical-align: middle;\n",
       "    }\n",
       "\n",
       "    .dataframe tbody tr th {\n",
       "        vertical-align: top;\n",
       "    }\n",
       "\n",
       "    .dataframe thead th {\n",
       "        text-align: right;\n",
       "    }\n",
       "</style>\n",
       "<table border=\"1\" class=\"dataframe\">\n",
       "  <thead>\n",
       "    <tr style=\"text-align: right;\">\n",
       "      <th></th>\n",
       "      <th>text</th>\n",
       "      <th>target</th>\n",
       "    </tr>\n",
       "  </thead>\n",
       "  <tbody>\n",
       "    <tr>\n",
       "      <th>count</th>\n",
       "      <td>7613</td>\n",
       "      <td>7613.00000</td>\n",
       "    </tr>\n",
       "    <tr>\n",
       "      <th>unique</th>\n",
       "      <td>7503</td>\n",
       "      <td>NaN</td>\n",
       "    </tr>\n",
       "    <tr>\n",
       "      <th>top</th>\n",
       "      <td>11-Year-Old Boy Charged With Manslaughter of Toddler: Report: An 11-year-old boy has been charged with manslaughter over the fatal sh...</td>\n",
       "      <td>NaN</td>\n",
       "    </tr>\n",
       "    <tr>\n",
       "      <th>freq</th>\n",
       "      <td>10</td>\n",
       "      <td>NaN</td>\n",
       "    </tr>\n",
       "    <tr>\n",
       "      <th>mean</th>\n",
       "      <td>NaN</td>\n",
       "      <td>0.42966</td>\n",
       "    </tr>\n",
       "    <tr>\n",
       "      <th>std</th>\n",
       "      <td>NaN</td>\n",
       "      <td>0.49506</td>\n",
       "    </tr>\n",
       "    <tr>\n",
       "      <th>min</th>\n",
       "      <td>NaN</td>\n",
       "      <td>0.00000</td>\n",
       "    </tr>\n",
       "    <tr>\n",
       "      <th>25%</th>\n",
       "      <td>NaN</td>\n",
       "      <td>0.00000</td>\n",
       "    </tr>\n",
       "    <tr>\n",
       "      <th>50%</th>\n",
       "      <td>NaN</td>\n",
       "      <td>0.00000</td>\n",
       "    </tr>\n",
       "    <tr>\n",
       "      <th>75%</th>\n",
       "      <td>NaN</td>\n",
       "      <td>1.00000</td>\n",
       "    </tr>\n",
       "    <tr>\n",
       "      <th>max</th>\n",
       "      <td>NaN</td>\n",
       "      <td>1.00000</td>\n",
       "    </tr>\n",
       "  </tbody>\n",
       "</table>\n",
       "</div>"
      ],
      "text/plain": [
       "                                                                                                                                            text  \\\n",
       "count                                                                                                                                       7613   \n",
       "unique                                                                                                                                      7503   \n",
       "top     11-Year-Old Boy Charged With Manslaughter of Toddler: Report: An 11-year-old boy has been charged with manslaughter over the fatal sh...   \n",
       "freq                                                                                                                                          10   \n",
       "mean                                                                                                                                         NaN   \n",
       "std                                                                                                                                          NaN   \n",
       "min                                                                                                                                          NaN   \n",
       "25%                                                                                                                                          NaN   \n",
       "50%                                                                                                                                          NaN   \n",
       "75%                                                                                                                                          NaN   \n",
       "max                                                                                                                                          NaN   \n",
       "\n",
       "            target  \n",
       "count   7613.00000  \n",
       "unique         NaN  \n",
       "top            NaN  \n",
       "freq           NaN  \n",
       "mean       0.42966  \n",
       "std        0.49506  \n",
       "min        0.00000  \n",
       "25%        0.00000  \n",
       "50%        0.00000  \n",
       "75%        1.00000  \n",
       "max        1.00000  "
      ]
     },
     "execution_count": 7,
     "metadata": {},
     "output_type": "execute_result"
    }
   ],
   "source": [
    "df.describe(include='all')"
   ]
  },
  {
   "cell_type": "code",
   "execution_count": 8,
   "metadata": {},
   "outputs": [
    {
     "data": {
      "text/plain": [
       "92"
      ]
     },
     "execution_count": 8,
     "metadata": {},
     "output_type": "execute_result"
    }
   ],
   "source": [
    "# Looks like there are some duplication\n",
    "df.duplicated().sum()"
   ]
  },
  {
   "cell_type": "code",
   "execution_count": 9,
   "metadata": {},
   "outputs": [],
   "source": [
    "# Deduplicate the dataset\n",
    "df.drop_duplicates(inplace=True)"
   ]
  },
  {
   "cell_type": "code",
   "execution_count": 10,
   "metadata": {},
   "outputs": [],
   "source": [
    "# There are still records with the exact same text but different target. Remove all of them\n",
    "df.drop_duplicates(subset='text', keep=False, inplace=True)"
   ]
  },
  {
   "cell_type": "code",
   "execution_count": 11,
   "metadata": {},
   "outputs": [
    {
     "data": {
      "text/plain": [
       "text      0\n",
       "target    0\n",
       "dtype: int64"
      ]
     },
     "execution_count": 11,
     "metadata": {},
     "output_type": "execute_result"
    }
   ],
   "source": [
    "# Check NA\n",
    "df.isna().sum()"
   ]
  },
  {
   "cell_type": "code",
   "execution_count": 12,
   "metadata": {},
   "outputs": [
    {
     "data": {
      "text/plain": [
       "0    0.574081\n",
       "1    0.425919\n",
       "Name: target, dtype: float64"
      ]
     },
     "execution_count": 12,
     "metadata": {},
     "output_type": "execute_result"
    }
   ],
   "source": [
    "# Check class imbalance\n",
    "df['target'].value_counts(normalize=True)"
   ]
  },
  {
   "cell_type": "code",
   "execution_count": 13,
   "metadata": {},
   "outputs": [
    {
     "data": {
      "text/html": [
       "<div>\n",
       "<style scoped>\n",
       "    .dataframe tbody tr th:only-of-type {\n",
       "        vertical-align: middle;\n",
       "    }\n",
       "\n",
       "    .dataframe tbody tr th {\n",
       "        vertical-align: top;\n",
       "    }\n",
       "\n",
       "    .dataframe thead th {\n",
       "        text-align: right;\n",
       "    }\n",
       "</style>\n",
       "<table border=\"1\" class=\"dataframe\">\n",
       "  <thead>\n",
       "    <tr style=\"text-align: right;\">\n",
       "      <th></th>\n",
       "      <th>text</th>\n",
       "      <th>target</th>\n",
       "    </tr>\n",
       "  </thead>\n",
       "  <tbody>\n",
       "    <tr>\n",
       "      <th>0</th>\n",
       "      <td>Our Deeds are the Reason of this #earthquake May ALLAH Forgive us all</td>\n",
       "      <td>1</td>\n",
       "    </tr>\n",
       "    <tr>\n",
       "      <th>1</th>\n",
       "      <td>Forest fire near La Ronge Sask. Canada</td>\n",
       "      <td>1</td>\n",
       "    </tr>\n",
       "    <tr>\n",
       "      <th>2</th>\n",
       "      <td>All residents asked to 'shelter in place' are being notified by officers. No other evacuation or shelter in place orders are expected</td>\n",
       "      <td>1</td>\n",
       "    </tr>\n",
       "    <tr>\n",
       "      <th>3</th>\n",
       "      <td>13,000 people receive #wildfires evacuation orders in California</td>\n",
       "      <td>1</td>\n",
       "    </tr>\n",
       "    <tr>\n",
       "      <th>4</th>\n",
       "      <td>Just got sent this photo from Ruby #Alaska as smoke from #wildfires pours into a school</td>\n",
       "      <td>1</td>\n",
       "    </tr>\n",
       "  </tbody>\n",
       "</table>\n",
       "</div>"
      ],
      "text/plain": [
       "                                                                                                                                    text  \\\n",
       "0                                                                  Our Deeds are the Reason of this #earthquake May ALLAH Forgive us all   \n",
       "1                                                                                                 Forest fire near La Ronge Sask. Canada   \n",
       "2  All residents asked to 'shelter in place' are being notified by officers. No other evacuation or shelter in place orders are expected   \n",
       "3                                                                      13,000 people receive #wildfires evacuation orders in California    \n",
       "4                                               Just got sent this photo from Ruby #Alaska as smoke from #wildfires pours into a school    \n",
       "\n",
       "   target  \n",
       "0       1  \n",
       "1       1  \n",
       "2       1  \n",
       "3       1  \n",
       "4       1  "
      ]
     },
     "execution_count": 13,
     "metadata": {},
     "output_type": "execute_result"
    }
   ],
   "source": [
    "# Look at a few postive classes\n",
    "df[df['target'] == 1][:5]"
   ]
  },
  {
   "cell_type": "code",
   "execution_count": 14,
   "metadata": {},
   "outputs": [
    {
     "data": {
      "text/html": [
       "<div>\n",
       "<style scoped>\n",
       "    .dataframe tbody tr th:only-of-type {\n",
       "        vertical-align: middle;\n",
       "    }\n",
       "\n",
       "    .dataframe tbody tr th {\n",
       "        vertical-align: top;\n",
       "    }\n",
       "\n",
       "    .dataframe thead th {\n",
       "        text-align: right;\n",
       "    }\n",
       "</style>\n",
       "<table border=\"1\" class=\"dataframe\">\n",
       "  <thead>\n",
       "    <tr style=\"text-align: right;\">\n",
       "      <th></th>\n",
       "      <th>text</th>\n",
       "      <th>target</th>\n",
       "    </tr>\n",
       "  </thead>\n",
       "  <tbody>\n",
       "    <tr>\n",
       "      <th>7581</th>\n",
       "      <td>@engineshed Great atmosphere at the British Lion gig tonight. Hearing is wrecked. http://t.co/oMNBAtJEAO</td>\n",
       "      <td>0</td>\n",
       "    </tr>\n",
       "    <tr>\n",
       "      <th>7582</th>\n",
       "      <td>Cramer: Iger's 3 words that wrecked Disney's stock - CNBC http://t.co/N6RBnHMTD4</td>\n",
       "      <td>0</td>\n",
       "    </tr>\n",
       "    <tr>\n",
       "      <th>7584</th>\n",
       "      <td>These boxes are ready to explode! Exploding Kittens finally arrived! gameofkittens #explodingkittensÛ_ https://t.co/TFGrAyuDC5</td>\n",
       "      <td>0</td>\n",
       "    </tr>\n",
       "    <tr>\n",
       "      <th>7587</th>\n",
       "      <td>Sirens everywhere!</td>\n",
       "      <td>0</td>\n",
       "    </tr>\n",
       "    <tr>\n",
       "      <th>7593</th>\n",
       "      <td>I just heard a really loud bang and everyone is asleep great</td>\n",
       "      <td>0</td>\n",
       "    </tr>\n",
       "  </tbody>\n",
       "</table>\n",
       "</div>"
      ],
      "text/plain": [
       "                                                                                                                                 text  \\\n",
       "7581                         @engineshed Great atmosphere at the British Lion gig tonight. Hearing is wrecked. http://t.co/oMNBAtJEAO   \n",
       "7582                                                 Cramer: Iger's 3 words that wrecked Disney's stock - CNBC http://t.co/N6RBnHMTD4   \n",
       "7584  These boxes are ready to explode! Exploding Kittens finally arrived! gameofkittens #explodingkittensÛ_ https://t.co/TFGrAyuDC5   \n",
       "7587                                                                                                               Sirens everywhere!   \n",
       "7593                                                                     I just heard a really loud bang and everyone is asleep great   \n",
       "\n",
       "      target  \n",
       "7581       0  \n",
       "7582       0  \n",
       "7584       0  \n",
       "7587       0  \n",
       "7593       0  "
      ]
     },
     "execution_count": 14,
     "metadata": {},
     "output_type": "execute_result"
    }
   ],
   "source": [
    "# Look at a few negative classes\n",
    "df[df['target'] == 0][-5:]"
   ]
  },
  {
   "cell_type": "code",
   "execution_count": 15,
   "metadata": {},
   "outputs": [],
   "source": [
    "# Split the training and validation set\n",
    "X_train, X_valid, y_train, y_valid = train_test_split(df['text'].values,\n",
    "                                                      df['target'].values,\n",
    "                                                      test_size=.2,\n",
    "                                                      random_state=42)"
   ]
  },
  {
   "cell_type": "markdown",
   "metadata": {},
   "source": [
    "# Research design\n",
    "\n",
    "<hr>\n",
    "\n",
    "We first make use of a pretrained sentence encoder from TensorFlow Hub. nnlm-en-dim50 is pretrained sentence encoder based on NNLM architecture, trained on English Google News 7B corpus, which takes input of a sentence (1-D tensor of strings) and output 50 dimensions. With this we do not need to perform any text tokenization, and the output of the layer (encoded sentence) can be fed directly to dense layers for classification. This is the baseline of our experiments, with least effort of text preprocessing.\n",
    "\n",
    "Next we utilize a couple of pretrained word vectors, trained with GloVe on a) Wikipedia pages and Gigaword - 6B tokens, 400 vocab, and b) twitter messages - 27B tokens, 1.2M vocab. This method takes significantly more effort to preprocess, including text tokenization, padding, and looking up from the pretrained vector to form the embedding matrix. The output of the embedding layer is in a shape of (batch size, time step, embedding dimension) and we will feed to GRU layers followed by a dense output layer for classification.\n",
    "\n",
    "Tokenize: Remove specified punctuations, and split the words by space. Each sentence (sequence of tokens) is then converted into a sequence of integers (index of the token in the generated dictionary).\n",
    "\n",
    "Padding: The integer 0 (unused during tokenization) is padded towards the end of the sentence, making all records (tweets) have the same length (40 sequences)\n",
    "\n",
    "Preparing the embedding matrix: The pretrained word vector contains a dict of vocab, each represented as a 200-dimension vector. All identified tokens in the training data set (20108) will be mapped into a matrix, with an additional row representing all-zero (e.g., unseen tokens in the training set, unseen vocab in the pretrained word vector, padding, etc.)\n",
    "\n",
    "<hr>"
   ]
  },
  {
   "cell_type": "markdown",
   "metadata": {},
   "source": [
    "## nnlm-en-dim50"
   ]
  },
  {
   "cell_type": "code",
   "execution_count": 42,
   "metadata": {},
   "outputs": [
    {
     "name": "stdout",
     "output_type": "stream",
     "text": [
      "Model: \"sequential\"\n",
      "_________________________________________________________________\n",
      "Layer (type)                 Output Shape              Param #   \n",
      "=================================================================\n",
      "keras_layer (KerasLayer)     (None, 50)                48190600  \n",
      "_________________________________________________________________\n",
      "dense (Dense)                (None, 128)               6528      \n",
      "_________________________________________________________________\n",
      "dense_1 (Dense)              (None, 1)                 129       \n",
      "=================================================================\n",
      "Total params: 48,197,257\n",
      "Trainable params: 48,197,257\n",
      "Non-trainable params: 0\n",
      "_________________________________________________________________\n"
     ]
    }
   ],
   "source": [
    "reset_keras()\n",
    "\n",
    "# Build the model\n",
    "model = keras.Sequential([\n",
    "    hub.KerasLayer(\"https://tfhub.dev/google/nnlm-en-dim50/2\",\n",
    "                   dtype=tf.string, input_shape=[], trainable=True),\n",
    "    keras.layers.Dense(128, activation=\"relu\"),\n",
    "    keras.layers.Dense(1, activation=\"sigmoid\")\n",
    "])\n",
    "\n",
    "model.summary()"
   ]
  },
  {
   "cell_type": "code",
   "execution_count": 43,
   "metadata": {},
   "outputs": [],
   "source": [
    "# Compile the model\n",
    "opt = keras.optimizers.Adam(learning_rate=1e-4)\n",
    "\n",
    "model.compile(loss=\"binary_crossentropy\", \n",
    "              optimizer=opt,\n",
    "              metrics=[\"accuracy\"])"
   ]
  },
  {
   "cell_type": "code",
   "execution_count": 18,
   "metadata": {},
   "outputs": [
    {
     "name": "stdout",
     "output_type": "stream",
     "text": [
      "s3://tensor.board/disaster_tweets/logs/run_2020_05_29-06_05_24\n"
     ]
    }
   ],
   "source": [
    "# Callbacks\n",
    "logdir = get_logdir()\n",
    "print(logdir)\n",
    "\n",
    "checkpoint_cb = keras.callbacks.ModelCheckpoint(f'{PATH_CHECKPOINT}/nnlm-en-dim50.h5', save_best_only=True)\n",
    "tensorboard_cb = keras.callbacks.TensorBoard(logdir, update_freq='epoch')\n",
    "early_stopping_cb = keras.callbacks.EarlyStopping(patience=10, restore_best_weights=True)"
   ]
  },
  {
   "cell_type": "code",
   "execution_count": 19,
   "metadata": {},
   "outputs": [
    {
     "name": "stdout",
     "output_type": "stream",
     "text": [
      "Train on 5988 samples, validate on 1497 samples\n",
      "Epoch 1/100\n",
      "5988/5988 [==============================] - 13s 2ms/sample - loss: 0.6785 - accuracy: 0.5850 - val_loss: 0.6444 - val_accuracy: 0.7061\n",
      "Epoch 2/100\n",
      "5988/5988 [==============================] - 12s 2ms/sample - loss: 0.6129 - accuracy: 0.7420 - val_loss: 0.5900 - val_accuracy: 0.7482\n",
      "Epoch 3/100\n",
      "5988/5988 [==============================] - 12s 2ms/sample - loss: 0.5564 - accuracy: 0.7712 - val_loss: 0.5455 - val_accuracy: 0.7715\n",
      "Epoch 4/100\n",
      "5988/5988 [==============================] - 12s 2ms/sample - loss: 0.5033 - accuracy: 0.7907 - val_loss: 0.5110 - val_accuracy: 0.7782\n",
      "Epoch 5/100\n",
      "5988/5988 [==============================] - 12s 2ms/sample - loss: 0.4562 - accuracy: 0.8064 - val_loss: 0.4875 - val_accuracy: 0.7829\n",
      "Epoch 6/100\n",
      "5988/5988 [==============================] - 12s 2ms/sample - loss: 0.4156 - accuracy: 0.8246 - val_loss: 0.4734 - val_accuracy: 0.7869\n",
      "Epoch 7/100\n",
      "5988/5988 [==============================] - 12s 2ms/sample - loss: 0.3792 - accuracy: 0.8444 - val_loss: 0.4651 - val_accuracy: 0.7916\n",
      "Epoch 8/100\n",
      "5988/5988 [==============================] - 12s 2ms/sample - loss: 0.3456 - accuracy: 0.8569 - val_loss: 0.4615 - val_accuracy: 0.7963\n",
      "Epoch 9/100\n",
      "5988/5988 [==============================] - 5s 892us/sample - loss: 0.3137 - accuracy: 0.8714 - val_loss: 0.4615 - val_accuracy: 0.7943\n",
      "Epoch 10/100\n",
      "5988/5988 [==============================] - 5s 894us/sample - loss: 0.2833 - accuracy: 0.8859 - val_loss: 0.4653 - val_accuracy: 0.7989\n",
      "Epoch 11/100\n",
      "5988/5988 [==============================] - 5s 896us/sample - loss: 0.2545 - accuracy: 0.9040 - val_loss: 0.4722 - val_accuracy: 0.7976\n",
      "Epoch 12/100\n",
      "5988/5988 [==============================] - 5s 896us/sample - loss: 0.2272 - accuracy: 0.9158 - val_loss: 0.4831 - val_accuracy: 0.7976\n",
      "Epoch 13/100\n",
      "5988/5988 [==============================] - 5s 893us/sample - loss: 0.2021 - accuracy: 0.9259 - val_loss: 0.4956 - val_accuracy: 0.7956\n",
      "Epoch 14/100\n",
      "5988/5988 [==============================] - 5s 893us/sample - loss: 0.1788 - accuracy: 0.9360 - val_loss: 0.5125 - val_accuracy: 0.7996\n",
      "Epoch 15/100\n",
      "5988/5988 [==============================] - 5s 892us/sample - loss: 0.1580 - accuracy: 0.9457 - val_loss: 0.5290 - val_accuracy: 0.7956\n",
      "Epoch 16/100\n",
      "5988/5988 [==============================] - 5s 893us/sample - loss: 0.1391 - accuracy: 0.9541 - val_loss: 0.5487 - val_accuracy: 0.7916\n",
      "Epoch 17/100\n",
      "5988/5988 [==============================] - 5s 894us/sample - loss: 0.1223 - accuracy: 0.9604 - val_loss: 0.5707 - val_accuracy: 0.7909\n",
      "Epoch 18/100\n",
      "5988/5988 [==============================] - 6s 925us/sample - loss: 0.1073 - accuracy: 0.9651 - val_loss: 0.5928 - val_accuracy: 0.7909\n",
      "CPU times: user 1min 2s, sys: 30.9 s, total: 1min 33s\n",
      "Wall time: 2min 32s\n"
     ]
    }
   ],
   "source": [
    "%%time\n",
    "\n",
    "# Fit the model\n",
    "history = model.fit(\n",
    "    x=X_train,\n",
    "    y=y_train,\n",
    "    epochs=100,\n",
    "    validation_data=(X_valid, y_valid),\n",
    "    callbacks=[checkpoint_cb, early_stopping_cb],\n",
    "    shuffle=True\n",
    "    )"
   ]
  },
  {
   "cell_type": "markdown",
   "metadata": {},
   "source": [
    "### Evaluate"
   ]
  },
  {
   "cell_type": "code",
   "execution_count": 44,
   "metadata": {},
   "outputs": [],
   "source": [
    "# Load weights of the best fitted\n",
    "model.load_weights(f'{PATH_CHECKPOINT}/nnlm-en-dim50.h5')"
   ]
  },
  {
   "cell_type": "code",
   "execution_count": 45,
   "metadata": {},
   "outputs": [
    {
     "name": "stdout",
     "output_type": "stream",
     "text": [
      "              precision    recall  f1-score   support\n",
      "\n",
      "           0    0.80363   0.86156   0.83158       874\n",
      "           1    0.78393   0.70465   0.74218       623\n",
      "\n",
      "    accuracy                        0.79626      1497\n",
      "   macro avg    0.79378   0.78311   0.78688      1497\n",
      "weighted avg    0.79543   0.79626   0.79438      1497\n",
      "\n"
     ]
    }
   ],
   "source": [
    "# Performance on the validation set\n",
    "y_pred = model.predict_classes(X_valid)\n",
    "\n",
    "print(classification_report(y_valid, y_pred, digits=5))"
   ]
  },
  {
   "cell_type": "code",
   "execution_count": 46,
   "metadata": {},
   "outputs": [
    {
     "data": {
      "text/plain": [
       "0.7831054798696789"
      ]
     },
     "execution_count": 46,
     "metadata": {},
     "output_type": "execute_result"
    }
   ],
   "source": [
    "# AUC score\n",
    "roc_auc_score(y_valid, y_pred)"
   ]
  },
  {
   "cell_type": "markdown",
   "metadata": {},
   "source": [
    "### Predict"
   ]
  },
  {
   "cell_type": "code",
   "execution_count": 22,
   "metadata": {},
   "outputs": [],
   "source": [
    "# Predict the classes\n",
    "y_test = model.predict_classes(df_test_raw['text'].values)\n",
    "\n",
    "# Prepare file for submission\n",
    "submission = pd.DataFrame({'id': df_test_raw['id'].values,\n",
    "                           'target': y_test[:,0]})\n",
    "submission.to_csv('submission_nnlm-en-dim50.csv', index=False)"
   ]
  },
  {
   "attachments": {
    "Screenshot%202020-05-31%20at%2010.45.37.png": {
     "image/png": "[encoded data removed]"
    }
   },
   "cell_type": "markdown",
   "metadata": {},
   "source": [
    "![Screenshot%202020-05-31%20at%2010.45.37.png](attachment:Screenshot%202020-05-31%20at%2010.45.37.png)"
   ]
  },
  {
   "cell_type": "markdown",
   "metadata": {},
   "source": [
    "## GloVe.6B.200d"
   ]
  },
  {
   "cell_type": "code",
   "execution_count": 3,
   "metadata": {},
   "outputs": [
    {
     "name": "stdout",
     "output_type": "stream",
     "text": [
      "                   Name  Dimension                     Corpus VocabularySize  \\\n",
      "2          fastText(en)        300                  Wikipedia           2.5M   \n",
      "11         GloVe.6B.50d         50  Wikipedia+Gigaword 5 (6B)           400K   \n",
      "12        GloVe.6B.100d        100  Wikipedia+Gigaword 5 (6B)           400K   \n",
      "13        GloVe.6B.200d        200  Wikipedia+Gigaword 5 (6B)           400K   \n",
      "14        GloVe.6B.300d        300  Wikipedia+Gigaword 5 (6B)           400K   \n",
      "15       GloVe.42B.300d        300          Common Crawl(42B)           1.9M   \n",
      "16      GloVe.840B.300d        300         Common Crawl(840B)           2.2M   \n",
      "17    GloVe.Twitter.25d         25               Twitter(27B)           1.2M   \n",
      "18    GloVe.Twitter.50d         50               Twitter(27B)           1.2M   \n",
      "19   GloVe.Twitter.100d        100               Twitter(27B)           1.2M   \n",
      "20   GloVe.Twitter.200d        200               Twitter(27B)           1.2M   \n",
      "21  word2vec.GoogleNews        300          Google News(100B)           3.0M   \n",
      "\n",
      "      Method Language    Author  \n",
      "2   fastText  English  Facebook  \n",
      "11     GloVe  English  Stanford  \n",
      "12     GloVe  English  Stanford  \n",
      "13     GloVe  English  Stanford  \n",
      "14     GloVe  English  Stanford  \n",
      "15     GloVe  English  Stanford  \n",
      "16     GloVe  English  Stanford  \n",
      "17     GloVe  English  Stanford  \n",
      "18     GloVe  English  Stanford  \n",
      "19     GloVe  English  Stanford  \n",
      "20     GloVe  English  Stanford  \n",
      "21  word2vec  English    Google  \n"
     ]
    }
   ],
   "source": [
    "# List of pretrained word vectors\n",
    "chakin.search(lang='English')"
   ]
  },
  {
   "cell_type": "code",
   "execution_count": 1,
   "metadata": {},
   "outputs": [],
   "source": [
    "# Download the pretrained word vector\n",
    "# chakin.download(number=13)"
   ]
  },
  {
   "cell_type": "markdown",
   "metadata": {},
   "source": [
    "### Text processing"
   ]
  },
  {
   "cell_type": "code",
   "execution_count": 16,
   "metadata": {},
   "outputs": [
    {
     "name": "stdout",
     "output_type": "stream",
     "text": [
      "Number of unique tokens: 19416\n"
     ]
    }
   ],
   "source": [
    "# Tokenize\n",
    "tokenizer = Tokenizer()  # Default split as the pretrained word vector has http but not http://\n",
    "\n",
    "tokenizer.fit_on_texts(X_train)\n",
    "\n",
    "word_index = tokenizer.word_index\n",
    "print('Number of unique tokens:', len(word_index))"
   ]
  },
  {
   "cell_type": "code",
   "execution_count": 17,
   "metadata": {},
   "outputs": [
    {
     "data": {
      "text/plain": [
       "['t',\n",
       " 'co',\n",
       " 'http',\n",
       " 'the',\n",
       " 'a',\n",
       " 'in',\n",
       " 'to',\n",
       " 'of',\n",
       " 'i',\n",
       " 'and',\n",
       " 'is',\n",
       " 'for',\n",
       " 'on',\n",
       " 'you',\n",
       " 'my',\n",
       " 'it',\n",
       " 'that',\n",
       " 'with',\n",
       " 'at',\n",
       " 'by',\n",
       " 'this',\n",
       " 'https',\n",
       " 'are',\n",
       " 'have',\n",
       " 'from',\n",
       " 'be',\n",
       " 'was',\n",
       " 'me',\n",
       " 'like',\n",
       " 'as']"
      ]
     },
     "execution_count": 17,
     "metadata": {},
     "output_type": "execute_result"
    }
   ],
   "source": [
    "# Top 30 frequent tokens\n",
    "list(word_index)[:30]"
   ]
  },
  {
   "cell_type": "code",
   "execution_count": 18,
   "metadata": {},
   "outputs": [
    {
     "name": "stdout",
     "output_type": "stream",
     "text": [
      "(5988, 40) (1497, 40)\n"
     ]
    }
   ],
   "source": [
    "# Padding\n",
    "X_train_seq = tokenizer.texts_to_sequences(X_train)\n",
    "X_valid_seq = tokenizer.texts_to_sequences(X_valid)\n",
    "\n",
    "X_train_seq = pad_sequences(X_train_seq, padding='post', truncating='post', maxlen=40) \n",
    "X_valid_seq = pad_sequences(X_valid_seq, padding='post', truncating='post', maxlen=40)\n",
    "\n",
    "print(X_train_seq.shape, X_valid_seq.shape)"
   ]
  },
  {
   "cell_type": "code",
   "execution_count": 19,
   "metadata": {},
   "outputs": [
    {
     "name": "stdout",
     "output_type": "stream",
     "text": [
      "['Arsonists being blamed for a blaze at a plastics recycling business in Adelaide | @pcaldicott7 reports. #7NewsAdl http://t.co/r1Xwdnvb0g']\n",
      "[[5869  148 2392   12    5  655   19    5 5870 3003  691    6 5871 5872\n",
      "   901 5873    3    1    2 5874    0    0    0    0    0    0    0    0\n",
      "     0    0    0    0    0    0    0    0    0    0    0    0]]\n"
     ]
    }
   ],
   "source": [
    "# How does the sequence (and padding) look like?\n",
    "print(X_train[:1])\n",
    "print(X_train_seq[:1])"
   ]
  },
  {
   "cell_type": "code",
   "execution_count": 20,
   "metadata": {},
   "outputs": [
    {
     "name": "stdout",
     "output_type": "stream",
     "text": [
      "Number of texts: 400000\n"
     ]
    }
   ],
   "source": [
    "# Indexing word vectors\n",
    "embeddings_index = {}\n",
    "\n",
    "with open('glove.6B.200d.txt', encoding='utf-8') as f:\n",
    "    for line in f:\n",
    "        word, coefs = line.split(maxsplit=1)\n",
    "        coefs = np.fromstring(coefs, 'f', sep=' ')\n",
    "        embeddings_index[word] = coefs\n",
    "        \n",
    "print('Number of texts:', len(embeddings_index))"
   ]
  },
  {
   "cell_type": "code",
   "execution_count": 21,
   "metadata": {},
   "outputs": [
    {
     "data": {
      "text/plain": [
       "array([-0.1253  ,  0.10986 , -0.24648 , -0.97699 ,  0.45639 , -0.19477 ,\n",
       "       -0.57033 ,  0.21562 , -0.072833,  1.0522  , -1.2665  ,  1.0462  ,\n",
       "        0.26052 ,  0.21486 , -0.25116 ,  0.47128 , -0.098183,  0.93993 ,\n",
       "       -0.26196 ,  0.3106  , -1.4063  ,  0.69799 , -0.49484 ,  0.17524 ,\n",
       "        0.10807 ,  0.54561 ,  0.028606,  0.1627  , -0.37475 ,  0.18744 ,\n",
       "       -0.39069 , -0.010332,  0.074559,  0.67472 ,  0.64387 , -0.43194 ,\n",
       "       -0.62811 , -0.2224  , -0.22347 ,  0.39007 , -0.65453 ,  0.21626 ,\n",
       "        0.57612 , -0.085979, -0.2468  , -0.28975 , -0.24276 , -0.69023 ,\n",
       "       -0.51486 ,  0.38971 , -0.60703 , -0.40067 ,  0.29745 ,  0.76046 ,\n",
       "        0.3589  ,  0.78579 , -0.60273 ,  0.062597, -0.12338 ,  0.057467,\n",
       "       -0.46938 , -0.22113 , -0.23502 ,  0.29893 ,  0.41463 , -0.08029 ,\n",
       "        0.22822 ,  0.44344 ,  0.55317 ,  0.18224 , -0.3015  ,  0.16256 ,\n",
       "        0.041161, -0.87026 , -0.61575 ,  0.14694 , -0.50751 , -0.45802 ,\n",
       "        0.25354 ,  0.12844 ,  0.70521 ,  0.66433 , -0.38547 ,  0.14594 ,\n",
       "        0.43622 , -0.1201  , -0.027053,  0.29131 ,  0.60872 , -0.099812,\n",
       "        0.75083 ,  0.23493 , -0.51344 ,  0.31333 ,  0.11393 ,  0.67249 ,\n",
       "       -0.3293  , -0.061816, -0.2513  , -1.2216  , -0.34526 ,  0.19894 ,\n",
       "       -0.65949 , -0.16445 , -0.68648 , -0.39616 ,  0.47234 , -0.31196 ,\n",
       "       -0.76122 ,  0.20687 ,  0.051793, -0.11275 ,  0.26388 , -0.64734 ,\n",
       "        0.048512, -0.32976 ,  0.69457 ,  0.55326 , -0.57646 , -0.11681 ,\n",
       "       -0.20391 , -0.086315, -0.55217 , -0.13052 ,  0.6562  , -0.27003 ,\n",
       "        0.97354 , -0.30113 , -0.024246, -0.2681  , -0.55272 ,  0.1714  ,\n",
       "        0.24217 , -0.091214,  0.27857 ,  0.13774 , -0.42531 , -0.12554 ,\n",
       "        0.18004 ,  0.22423 , -0.22907 , -0.59592 ,  0.35076 , -0.47567 ,\n",
       "        0.57236 , -0.17857 , -0.93527 , -1.117   ,  0.33022 , -0.68105 ,\n",
       "        0.82814 ,  0.24955 , -0.0686  ,  0.66005 ,  0.19842 ,  0.024537,\n",
       "       -0.33611 , -0.22637 ,  0.22341 , -0.65645 , -0.27359 , -0.031343,\n",
       "       -0.19739 ,  0.1971  ,  0.31737 , -0.060534, -0.078678, -0.42435 ,\n",
       "        0.20723 , -0.47494 ,  0.54649 , -0.20415 ,  0.57524 ,  0.091114,\n",
       "        0.16696 ,  0.75697 , -0.080509,  0.028879, -0.10736 , -1.2444  ,\n",
       "        0.27595 ,  0.49063 ,  0.44169 , -0.49477 , -0.34713 ,  0.24263 ,\n",
       "        0.5193  ,  0.29347 ,  0.068074, -0.49694 ,  1.2112  , -0.84538 ,\n",
       "       -0.59494 , -0.049599, -0.39203 , -0.35991 ,  0.30047 , -0.36956 ,\n",
       "        0.36917 , -0.12697 ], dtype=float32)"
      ]
     },
     "execution_count": 21,
     "metadata": {},
     "output_type": "execute_result"
    }
   ],
   "source": [
    "# How does the word 'twitter' look like in the embedding layer\n",
    "embeddings_index['twitter']"
   ]
  },
  {
   "cell_type": "code",
   "execution_count": 22,
   "metadata": {},
   "outputs": [
    {
     "data": {
      "text/plain": [
       "(19417, 200)"
      ]
     },
     "execution_count": 22,
     "metadata": {},
     "output_type": "execute_result"
    }
   ],
   "source": [
    "# Embedding matrix\n",
    "embedding_dim = 200\n",
    "embedding_matrix = np.zeros((len(word_index) + 1, embedding_dim))\n",
    "\n",
    "for word, i in word_index.items():\n",
    "    embedding_vector = embeddings_index.get(word)\n",
    "    if embedding_vector is not None:\n",
    "        # words not found in embedding index will be all-zeros.\n",
    "        embedding_matrix[i] = embedding_vector\n",
    "        \n",
    "embedding_matrix.shape"
   ]
  },
  {
   "cell_type": "markdown",
   "metadata": {},
   "source": [
    "### Modeling"
   ]
  },
  {
   "cell_type": "code",
   "execution_count": 23,
   "metadata": {},
   "outputs": [
    {
     "name": "stdout",
     "output_type": "stream",
     "text": [
      "Model: \"sequential\"\n",
      "_________________________________________________________________\n",
      "Layer (type)                 Output Shape              Param #   \n",
      "=================================================================\n",
      "embedding (Embedding)        (None, 40, 200)           3883400   \n",
      "_________________________________________________________________\n",
      "gru (GRU)                    (None, 40, 128)           126720    \n",
      "_________________________________________________________________\n",
      "gru_1 (GRU)                  (None, 128)               99072     \n",
      "_________________________________________________________________\n",
      "dense (Dense)                (None, 1)                 129       \n",
      "=================================================================\n",
      "Total params: 4,109,321\n",
      "Trainable params: 225,921\n",
      "Non-trainable params: 3,883,400\n",
      "_________________________________________________________________\n"
     ]
    }
   ],
   "source": [
    "reset_keras()\n",
    "\n",
    "# Build the model\n",
    "model = keras.Sequential([\n",
    "    keras.layers.Embedding(len(word_index) + 1,\n",
    "                           embedding_dim,\n",
    "                           embeddings_initializer=keras.initializers.Constant(embedding_matrix),\n",
    "                           input_length=40,\n",
    "                           trainable=False),\n",
    "    keras.layers.GRU(128, return_sequences=True),\n",
    "    keras.layers.GRU(128),\n",
    "    keras.layers.Dense(1, activation=\"sigmoid\")\n",
    "])\n",
    "\n",
    "model.summary()"
   ]
  },
  {
   "cell_type": "code",
   "execution_count": 24,
   "metadata": {},
   "outputs": [],
   "source": [
    "# Compile the model\n",
    "opt = keras.optimizers.Adam(learning_rate=1e-4)\n",
    "\n",
    "model.compile(loss=\"binary_crossentropy\", \n",
    "              optimizer=opt,\n",
    "              metrics=[\"accuracy\"])"
   ]
  },
  {
   "cell_type": "code",
   "execution_count": 25,
   "metadata": {},
   "outputs": [
    {
     "name": "stdout",
     "output_type": "stream",
     "text": [
      "s3://tensor.board/disaster_tweets/logs/run_2020_05_31-02_30_52\n"
     ]
    }
   ],
   "source": [
    "# Callbacks\n",
    "logdir = get_logdir()\n",
    "print(logdir)\n",
    "\n",
    "checkpoint_cb = keras.callbacks.ModelCheckpoint(f'{PATH_CHECKPOINT}/glove.6B.h5', save_best_only=True)\n",
    "tensorboard_cb = keras.callbacks.TensorBoard(logdir, update_freq='epoch')\n",
    "early_stopping_cb = keras.callbacks.EarlyStopping(patience=10, restore_best_weights=True)"
   ]
  },
  {
   "cell_type": "code",
   "execution_count": 26,
   "metadata": {},
   "outputs": [
    {
     "name": "stdout",
     "output_type": "stream",
     "text": [
      "Train on 5988 samples, validate on 1497 samples\n",
      "Epoch 1/100\n",
      "5988/5988 [==============================] - 8s 1ms/sample - loss: 0.6833 - accuracy: 0.5716 - val_loss: 0.6641 - val_accuracy: 0.5832\n",
      "Epoch 2/100\n",
      "5988/5988 [==============================] - 4s 707us/sample - loss: 0.5590 - accuracy: 0.7153 - val_loss: 0.4769 - val_accuracy: 0.7882\n",
      "Epoch 3/100\n",
      "5988/5988 [==============================] - 4s 705us/sample - loss: 0.4432 - accuracy: 0.8078 - val_loss: 0.4569 - val_accuracy: 0.7969\n",
      "Epoch 4/100\n",
      "5988/5988 [==============================] - 4s 719us/sample - loss: 0.4208 - accuracy: 0.8181 - val_loss: 0.4467 - val_accuracy: 0.7989\n",
      "Epoch 5/100\n",
      "5988/5988 [==============================] - 4s 728us/sample - loss: 0.4099 - accuracy: 0.8208 - val_loss: 0.4450 - val_accuracy: 0.8016\n",
      "Epoch 6/100\n",
      "5988/5988 [==============================] - 4s 741us/sample - loss: 0.4034 - accuracy: 0.8288 - val_loss: 0.4414 - val_accuracy: 0.8049\n",
      "Epoch 7/100\n",
      "5988/5988 [==============================] - 1s 237us/sample - loss: 0.3930 - accuracy: 0.8305 - val_loss: 0.4429 - val_accuracy: 0.8016\n",
      "Epoch 8/100\n",
      "5988/5988 [==============================] - 4s 734us/sample - loss: 0.3918 - accuracy: 0.8347 - val_loss: 0.4371 - val_accuracy: 0.8023\n",
      "Epoch 9/100\n",
      "5988/5988 [==============================] - 1s 236us/sample - loss: 0.3873 - accuracy: 0.8367 - val_loss: 0.4419 - val_accuracy: 0.8036\n",
      "Epoch 10/100\n",
      "5988/5988 [==============================] - 1s 220us/sample - loss: 0.3801 - accuracy: 0.8413 - val_loss: 0.4435 - val_accuracy: 0.8049\n",
      "Epoch 11/100\n",
      "5988/5988 [==============================] - 1s 216us/sample - loss: 0.3766 - accuracy: 0.8444 - val_loss: 0.4503 - val_accuracy: 0.8036\n",
      "Epoch 12/100\n",
      "5988/5988 [==============================] - 1s 216us/sample - loss: 0.3743 - accuracy: 0.8440 - val_loss: 0.4447 - val_accuracy: 0.8063\n",
      "Epoch 13/100\n",
      "5988/5988 [==============================] - 1s 219us/sample - loss: 0.3667 - accuracy: 0.8499 - val_loss: 0.4631 - val_accuracy: 0.8029\n",
      "Epoch 14/100\n",
      "5988/5988 [==============================] - 1s 220us/sample - loss: 0.3624 - accuracy: 0.8477 - val_loss: 0.4747 - val_accuracy: 0.7996\n",
      "Epoch 15/100\n",
      "5988/5988 [==============================] - 1s 220us/sample - loss: 0.3562 - accuracy: 0.8535 - val_loss: 0.4671 - val_accuracy: 0.7989\n",
      "Epoch 16/100\n",
      "5988/5988 [==============================] - 1s 216us/sample - loss: 0.3496 - accuracy: 0.8535 - val_loss: 0.4575 - val_accuracy: 0.8023\n",
      "Epoch 17/100\n",
      "5988/5988 [==============================] - 1s 217us/sample - loss: 0.3488 - accuracy: 0.8586 - val_loss: 0.4559 - val_accuracy: 0.8036\n",
      "Epoch 18/100\n",
      "5988/5988 [==============================] - 1s 221us/sample - loss: 0.3411 - accuracy: 0.8597 - val_loss: 0.4496 - val_accuracy: 0.8003\n",
      "CPU times: user 48.6 s, sys: 5.7 s, total: 54.3 s\n",
      "Wall time: 48.3 s\n"
     ]
    }
   ],
   "source": [
    "%%time\n",
    "\n",
    "# Fit the model\n",
    "history = model.fit(\n",
    "    x=X_train_seq,\n",
    "    y=y_train,\n",
    "    epochs=100,\n",
    "    validation_data=(X_valid_seq, y_valid),\n",
    "    callbacks=[checkpoint_cb, early_stopping_cb],\n",
    "    shuffle=True\n",
    "    )"
   ]
  },
  {
   "cell_type": "markdown",
   "metadata": {},
   "source": [
    "### Evaluate"
   ]
  },
  {
   "cell_type": "code",
   "execution_count": 28,
   "metadata": {},
   "outputs": [],
   "source": [
    "# Load weights of the best fitted\n",
    "model.load_weights(f'{PATH_CHECKPOINT}/glove.6B.h5')"
   ]
  },
  {
   "cell_type": "code",
   "execution_count": 29,
   "metadata": {},
   "outputs": [
    {
     "name": "stdout",
     "output_type": "stream",
     "text": [
      "              precision    recall  f1-score   support\n",
      "\n",
      "           0    0.79251   0.89588   0.84103       874\n",
      "           1    0.82122   0.67095   0.73852       623\n",
      "\n",
      "    accuracy                        0.80227      1497\n",
      "   macro avg    0.80686   0.78341   0.78977      1497\n",
      "weighted avg    0.80446   0.80227   0.79837      1497\n",
      "\n"
     ]
    }
   ],
   "source": [
    "# Performance on the validation set\n",
    "y_pred = model.predict_classes(X_valid_seq)\n",
    "\n",
    "print(classification_report(y_valid, y_pred, digits=5))"
   ]
  },
  {
   "cell_type": "code",
   "execution_count": 30,
   "metadata": {},
   "outputs": [
    {
     "data": {
      "text/plain": [
       "0.7834140186812905"
      ]
     },
     "execution_count": 30,
     "metadata": {},
     "output_type": "execute_result"
    }
   ],
   "source": [
    "# AUC score\n",
    "roc_auc_score(y_valid, y_pred)"
   ]
  },
  {
   "cell_type": "markdown",
   "metadata": {},
   "source": [
    "### Predict"
   ]
  },
  {
   "cell_type": "code",
   "execution_count": 31,
   "metadata": {},
   "outputs": [],
   "source": [
    "# Preprocess the test data\n",
    "X_test_seq = tokenizer.texts_to_sequences(df_test_raw['text'].values)\n",
    "X_test_seq = pad_sequences(X_test_seq, padding='post', truncating='post', maxlen=40) \n",
    "\n",
    "# Predict the classes\n",
    "y_test = model.predict_classes(X_test_seq)\n",
    "\n",
    "# Prepare file for submission\n",
    "submission = pd.DataFrame({'id': df_test_raw['id'].values,\n",
    "                           'target': y_test[:,0]})\n",
    "submission.to_csv('submission_glove_6B.csv', index=False)"
   ]
  },
  {
   "attachments": {
    "Screenshot%202020-05-31%20at%2010.45.17.png": {
     "image/png": "[encoded data removed]"
    }
   },
   "cell_type": "markdown",
   "metadata": {},
   "source": [
    "![Screenshot%202020-05-31%20at%2010.45.17.png](attachment:Screenshot%202020-05-31%20at%2010.45.17.png)"
   ]
  },
  {
   "cell_type": "markdown",
   "metadata": {},
   "source": [
    "## GloVe.Twitter.200d"
   ]
  },
  {
   "cell_type": "code",
   "execution_count": 32,
   "metadata": {},
   "outputs": [
    {
     "name": "stdout",
     "output_type": "stream",
     "text": [
      "                   Name  Dimension                     Corpus VocabularySize  \\\n",
      "2          fastText(en)        300                  Wikipedia           2.5M   \n",
      "11         GloVe.6B.50d         50  Wikipedia+Gigaword 5 (6B)           400K   \n",
      "12        GloVe.6B.100d        100  Wikipedia+Gigaword 5 (6B)           400K   \n",
      "13        GloVe.6B.200d        200  Wikipedia+Gigaword 5 (6B)           400K   \n",
      "14        GloVe.6B.300d        300  Wikipedia+Gigaword 5 (6B)           400K   \n",
      "15       GloVe.42B.300d        300          Common Crawl(42B)           1.9M   \n",
      "16      GloVe.840B.300d        300         Common Crawl(840B)           2.2M   \n",
      "17    GloVe.Twitter.25d         25               Twitter(27B)           1.2M   \n",
      "18    GloVe.Twitter.50d         50               Twitter(27B)           1.2M   \n",
      "19   GloVe.Twitter.100d        100               Twitter(27B)           1.2M   \n",
      "20   GloVe.Twitter.200d        200               Twitter(27B)           1.2M   \n",
      "21  word2vec.GoogleNews        300          Google News(100B)           3.0M   \n",
      "\n",
      "      Method Language    Author  \n",
      "2   fastText  English  Facebook  \n",
      "11     GloVe  English  Stanford  \n",
      "12     GloVe  English  Stanford  \n",
      "13     GloVe  English  Stanford  \n",
      "14     GloVe  English  Stanford  \n",
      "15     GloVe  English  Stanford  \n",
      "16     GloVe  English  Stanford  \n",
      "17     GloVe  English  Stanford  \n",
      "18     GloVe  English  Stanford  \n",
      "19     GloVe  English  Stanford  \n",
      "20     GloVe  English  Stanford  \n",
      "21  word2vec  English    Google  \n"
     ]
    }
   ],
   "source": [
    "# List of pretrained word vectors\n",
    "chakin.search(lang='English')"
   ]
  },
  {
   "cell_type": "code",
   "execution_count": 33,
   "metadata": {},
   "outputs": [],
   "source": [
    "# Download the pretrained word vector\n",
    "# chakin.download(number=20)"
   ]
  },
  {
   "cell_type": "markdown",
   "metadata": {},
   "source": [
    "### Text processing"
   ]
  },
  {
   "cell_type": "code",
   "execution_count": 34,
   "metadata": {},
   "outputs": [
    {
     "name": "stdout",
     "output_type": "stream",
     "text": [
      "Number of unique tokens: 19416\n"
     ]
    }
   ],
   "source": [
    "# Tokenize\n",
    "tokenizer = Tokenizer()  # Default split as the pretrained word vector has http but not http://\n",
    "\n",
    "tokenizer.fit_on_texts(X_train)\n",
    "\n",
    "word_index = tokenizer.word_index\n",
    "print('Number of unique tokens:', len(word_index))"
   ]
  },
  {
   "cell_type": "code",
   "execution_count": 35,
   "metadata": {},
   "outputs": [
    {
     "data": {
      "text/plain": [
       "['t',\n",
       " 'co',\n",
       " 'http',\n",
       " 'the',\n",
       " 'a',\n",
       " 'in',\n",
       " 'to',\n",
       " 'of',\n",
       " 'i',\n",
       " 'and',\n",
       " 'is',\n",
       " 'for',\n",
       " 'on',\n",
       " 'you',\n",
       " 'my',\n",
       " 'it',\n",
       " 'that',\n",
       " 'with',\n",
       " 'at',\n",
       " 'by',\n",
       " 'this',\n",
       " 'https',\n",
       " 'are',\n",
       " 'have',\n",
       " 'from',\n",
       " 'be',\n",
       " 'was',\n",
       " 'me',\n",
       " 'like',\n",
       " 'as']"
      ]
     },
     "execution_count": 35,
     "metadata": {},
     "output_type": "execute_result"
    }
   ],
   "source": [
    "# Top 30 frequent tokens\n",
    "list(word_index)[:30]"
   ]
  },
  {
   "cell_type": "code",
   "execution_count": 36,
   "metadata": {},
   "outputs": [
    {
     "name": "stdout",
     "output_type": "stream",
     "text": [
      "(5988, 40) (1497, 40)\n"
     ]
    }
   ],
   "source": [
    "# Padding\n",
    "X_train_seq = tokenizer.texts_to_sequences(X_train)\n",
    "X_valid_seq = tokenizer.texts_to_sequences(X_valid)\n",
    "\n",
    "X_train_seq = pad_sequences(X_train_seq, padding='post', truncating='post', maxlen=40) \n",
    "X_valid_seq = pad_sequences(X_valid_seq, padding='post', truncating='post', maxlen=40)\n",
    "\n",
    "print(X_train_seq.shape, X_valid_seq.shape)"
   ]
  },
  {
   "cell_type": "code",
   "execution_count": 37,
   "metadata": {},
   "outputs": [
    {
     "name": "stdout",
     "output_type": "stream",
     "text": [
      "['Arsonists being blamed for a blaze at a plastics recycling business in Adelaide | @pcaldicott7 reports. #7NewsAdl http://t.co/r1Xwdnvb0g']\n",
      "[[5869  148 2392   12    5  655   19    5 5870 3003  691    6 5871 5872\n",
      "   901 5873    3    1    2 5874    0    0    0    0    0    0    0    0\n",
      "     0    0    0    0    0    0    0    0    0    0    0    0]]\n"
     ]
    }
   ],
   "source": [
    "# How does the sequence (and padding) look like?\n",
    "print(X_train[:1])\n",
    "print(X_train_seq[:1])"
   ]
  },
  {
   "cell_type": "code",
   "execution_count": 38,
   "metadata": {},
   "outputs": [
    {
     "name": "stdout",
     "output_type": "stream",
     "text": [
      "Number of texts: 1193514\n"
     ]
    }
   ],
   "source": [
    "# Indexing word vectors\n",
    "embeddings_index = {}\n",
    "\n",
    "with open('glove.twitter.27B.200d.txt', encoding='utf-8') as f:\n",
    "    for line in f:\n",
    "        word, coefs = line.split(maxsplit=1)\n",
    "        coefs = np.fromstring(coefs, 'f', sep=' ')\n",
    "        embeddings_index[word] = coefs\n",
    "        \n",
    "print('Number of texts:', len(embeddings_index))"
   ]
  },
  {
   "cell_type": "code",
   "execution_count": 39,
   "metadata": {},
   "outputs": [
    {
     "data": {
      "text/plain": [
       "array([ 1.0433e-01,  3.9882e-01, -6.9542e-01, -5.0984e-01,  6.6959e-02,\n",
       "       -6.6277e-01,  2.5302e-01, -6.1320e-01,  6.6954e-02,  3.4897e-01,\n",
       "       -3.4739e-01, -4.3558e-01,  3.0712e-01, -4.9802e-01, -9.2228e-01,\n",
       "       -4.3034e-01,  8.4605e-02, -2.7696e-01,  3.6586e-01, -5.0237e-01,\n",
       "        1.4885e-02,  2.1380e-01, -2.1657e-01, -6.2373e-02, -4.4156e-01,\n",
       "       -1.6118e+00,  2.9537e-01, -1.0533e+00, -1.0280e+00,  9.4658e-01,\n",
       "       -2.4770e-01,  1.2826e-01,  1.6348e-01, -4.6791e-01,  6.4240e-01,\n",
       "       -1.6270e-01,  5.0066e-01, -1.4123e-01, -3.0530e-01, -2.2070e-01,\n",
       "       -4.9756e-01,  4.8674e-01, -1.9606e-01,  4.7974e-01,  2.0614e-01,\n",
       "       -6.0490e-02, -2.7333e-01, -2.8277e-01, -2.5695e-01,  1.5094e-01,\n",
       "        5.7955e-01, -5.3770e-01,  1.7460e-02, -3.0005e-01, -8.4298e-02,\n",
       "        3.6802e-01, -1.0117e+00,  2.3048e-01, -5.8210e-02, -2.3774e-01,\n",
       "        6.5609e-03, -2.8949e-01, -2.7410e-01,  2.0116e-01, -1.4284e-01,\n",
       "        2.1115e-01,  8.4995e-02,  3.3736e-01,  2.8317e-01,  3.3712e-01,\n",
       "       -5.0540e-01,  2.0566e-01, -1.1022e-01, -2.5945e-01, -7.2273e-01,\n",
       "       -1.3666e-03,  1.6275e-01, -2.8593e-01, -3.1992e-01,  1.2209e-01,\n",
       "       -5.7519e-01,  9.8665e-01,  5.0474e-01, -3.4323e-01,  6.1735e-01,\n",
       "       -3.0499e-01, -4.6906e-01, -1.7082e-01,  3.6838e-01, -8.0676e-01,\n",
       "       -7.1646e-02, -1.3474e-01,  1.0752e-01,  5.7793e-01,  2.9128e-01,\n",
       "       -5.2455e-01, -9.3312e-01,  3.3563e-01,  4.8061e-01, -1.0195e-01,\n",
       "       -2.7788e-01, -2.1559e-01, -2.1250e-01, -3.6998e-01,  2.6167e-01,\n",
       "        2.1822e-01, -5.2326e-01,  8.6135e-02, -4.7194e-01, -3.4948e-01,\n",
       "        9.5376e-03,  1.5017e-01, -5.0384e-01, -3.6440e-01, -4.1736e-01,\n",
       "        2.4485e-01,  3.6841e-01,  1.2392e-01, -1.1723e-02, -5.7061e-01,\n",
       "       -6.3992e-02, -7.7934e-02,  7.1826e-01, -2.3956e-01, -1.1541e-01,\n",
       "       -3.8308e-02,  1.8749e-01, -4.9346e-01, -2.2298e-01, -4.5357e-01,\n",
       "       -6.0618e-02,  1.3676e-01,  4.3335e-01,  3.7287e-01,  1.1552e-03,\n",
       "       -1.4310e-01, -1.0650e-01,  5.7223e-01, -4.4581e-01, -2.8334e-02,\n",
       "        3.2161e-01,  4.9536e-02,  4.9466e-01, -6.3997e-02,  6.8482e-01,\n",
       "       -1.5629e-01, -3.6875e-01,  5.1884e-01,  1.9150e-01, -1.6008e-01,\n",
       "       -1.2235e-01,  1.7381e-01, -4.8170e+00, -1.7911e-01, -2.1412e-02,\n",
       "       -5.1667e-01, -2.9423e-02, -5.7302e-01, -3.0025e-01,  1.0120e-01,\n",
       "       -1.4414e-01,  4.1330e-01,  1.3247e-01, -1.7496e-01, -1.3064e-01,\n",
       "       -3.4747e-01, -1.6157e-01,  3.5463e-03, -1.3286e-01, -8.8740e-02,\n",
       "       -1.7493e-01,  3.7604e-02, -1.1729e-01,  2.9965e-01, -7.4384e-01,\n",
       "        1.3649e-02,  4.1821e-01,  4.7505e-01, -4.6075e-03,  4.8751e-01,\n",
       "        3.6420e-02,  3.5747e-01, -4.7032e-01,  2.6451e-01, -6.3419e-02,\n",
       "       -2.8791e-01, -5.3177e-01,  3.7589e-01,  4.0847e-02, -5.0547e-01,\n",
       "       -3.7645e-01, -1.2634e-01, -2.3890e-03, -2.3777e-01,  2.1900e-01,\n",
       "        7.9280e-01, -6.5457e-01, -5.0811e-02, -1.0774e-01, -4.0025e-01],\n",
       "      dtype=float32)"
      ]
     },
     "execution_count": 39,
     "metadata": {},
     "output_type": "execute_result"
    }
   ],
   "source": [
    "# How does the word 'twitter' look like in the embedding layer\n",
    "embeddings_index['twitter']"
   ]
  },
  {
   "cell_type": "code",
   "execution_count": 40,
   "metadata": {},
   "outputs": [
    {
     "data": {
      "text/plain": [
       "(19417, 200)"
      ]
     },
     "execution_count": 40,
     "metadata": {},
     "output_type": "execute_result"
    }
   ],
   "source": [
    "# Embedding matrix\n",
    "embedding_dim = 200\n",
    "embedding_matrix = np.zeros((len(word_index) + 1, embedding_dim))\n",
    "\n",
    "for word, i in word_index.items():\n",
    "    embedding_vector = embeddings_index.get(word)\n",
    "    if embedding_vector is not None:\n",
    "        # words not found in embedding index will be all-zeros.\n",
    "        embedding_matrix[i] = embedding_vector\n",
    "        \n",
    "embedding_matrix.shape"
   ]
  },
  {
   "cell_type": "markdown",
   "metadata": {},
   "source": [
    "### Modeling"
   ]
  },
  {
   "cell_type": "code",
   "execution_count": 41,
   "metadata": {},
   "outputs": [
    {
     "name": "stdout",
     "output_type": "stream",
     "text": [
      "Model: \"sequential\"\n",
      "_________________________________________________________________\n",
      "Layer (type)                 Output Shape              Param #   \n",
      "=================================================================\n",
      "embedding (Embedding)        (None, 40, 200)           3883400   \n",
      "_________________________________________________________________\n",
      "gru (GRU)                    (None, 40, 128)           126720    \n",
      "_________________________________________________________________\n",
      "gru_1 (GRU)                  (None, 128)               99072     \n",
      "_________________________________________________________________\n",
      "dense (Dense)                (None, 1)                 129       \n",
      "=================================================================\n",
      "Total params: 4,109,321\n",
      "Trainable params: 225,921\n",
      "Non-trainable params: 3,883,400\n",
      "_________________________________________________________________\n"
     ]
    }
   ],
   "source": [
    "reset_keras()\n",
    "\n",
    "# Build the model\n",
    "model = keras.Sequential([\n",
    "    keras.layers.Embedding(len(word_index) + 1,\n",
    "                           embedding_dim,\n",
    "                           embeddings_initializer=keras.initializers.Constant(embedding_matrix),\n",
    "                           input_length=40,\n",
    "                           trainable=False),\n",
    "    keras.layers.GRU(128, return_sequences=True),\n",
    "    keras.layers.GRU(128),\n",
    "    keras.layers.Dense(1, activation=\"sigmoid\")\n",
    "])\n",
    "\n",
    "model.summary()"
   ]
  },
  {
   "cell_type": "code",
   "execution_count": 42,
   "metadata": {},
   "outputs": [],
   "source": [
    "# Compile the model\n",
    "opt = keras.optimizers.Adam(learning_rate=1e-4)\n",
    "\n",
    "model.compile(loss=\"binary_crossentropy\", \n",
    "              optimizer=opt,\n",
    "              metrics=[\"accuracy\"])"
   ]
  },
  {
   "cell_type": "code",
   "execution_count": 43,
   "metadata": {},
   "outputs": [
    {
     "name": "stdout",
     "output_type": "stream",
     "text": [
      "s3://tensor.board/disaster_tweets/logs/run_2020_05_31-02_36_12\n"
     ]
    }
   ],
   "source": [
    "# Callbacks\n",
    "logdir = get_logdir()\n",
    "print(logdir)\n",
    "\n",
    "checkpoint_cb = keras.callbacks.ModelCheckpoint(f'{PATH_CHECKPOINT}/glove.twitter.h5', save_best_only=True)\n",
    "tensorboard_cb = keras.callbacks.TensorBoard(logdir, update_freq='epoch')\n",
    "early_stopping_cb = keras.callbacks.EarlyStopping(patience=10, restore_best_weights=True)"
   ]
  },
  {
   "cell_type": "code",
   "execution_count": 44,
   "metadata": {},
   "outputs": [
    {
     "name": "stdout",
     "output_type": "stream",
     "text": [
      "Train on 5988 samples, validate on 1497 samples\n",
      "Epoch 1/100\n",
      "5988/5988 [==============================] - 6s 1ms/sample - loss: 0.6817 - accuracy: 0.5725 - val_loss: 0.6542 - val_accuracy: 0.5932\n",
      "Epoch 2/100\n",
      "5988/5988 [==============================] - 4s 706us/sample - loss: 0.5475 - accuracy: 0.7244 - val_loss: 0.4439 - val_accuracy: 0.8103\n",
      "Epoch 3/100\n",
      "5988/5988 [==============================] - 4s 732us/sample - loss: 0.4297 - accuracy: 0.8101 - val_loss: 0.4379 - val_accuracy: 0.8123\n",
      "Epoch 4/100\n",
      "5988/5988 [==============================] - 1s 237us/sample - loss: 0.4127 - accuracy: 0.8236 - val_loss: 0.4395 - val_accuracy: 0.8143\n",
      "Epoch 5/100\n",
      "5988/5988 [==============================] - 4s 698us/sample - loss: 0.4049 - accuracy: 0.8225 - val_loss: 0.4286 - val_accuracy: 0.8156\n",
      "Epoch 6/100\n",
      "5988/5988 [==============================] - 4s 701us/sample - loss: 0.3972 - accuracy: 0.8288 - val_loss: 0.4249 - val_accuracy: 0.8150\n",
      "Epoch 7/100\n",
      "5988/5988 [==============================] - 1s 237us/sample - loss: 0.3893 - accuracy: 0.8325 - val_loss: 0.4273 - val_accuracy: 0.8143\n",
      "Epoch 8/100\n",
      "5988/5988 [==============================] - 1s 216us/sample - loss: 0.3874 - accuracy: 0.8332 - val_loss: 0.4265 - val_accuracy: 0.8156\n",
      "Epoch 9/100\n",
      "5988/5988 [==============================] - 1s 226us/sample - loss: 0.3835 - accuracy: 0.8358 - val_loss: 0.4252 - val_accuracy: 0.8150\n",
      "Epoch 10/100\n",
      "5988/5988 [==============================] - 1s 217us/sample - loss: 0.3745 - accuracy: 0.8392 - val_loss: 0.4305 - val_accuracy: 0.8216\n",
      "Epoch 11/100\n",
      "5988/5988 [==============================] - 1s 221us/sample - loss: 0.3729 - accuracy: 0.8402 - val_loss: 0.4303 - val_accuracy: 0.8163\n",
      "Epoch 12/100\n",
      "5988/5988 [==============================] - 1s 218us/sample - loss: 0.3679 - accuracy: 0.8484 - val_loss: 0.4331 - val_accuracy: 0.8103\n",
      "Epoch 13/100\n",
      "5988/5988 [==============================] - 1s 217us/sample - loss: 0.3593 - accuracy: 0.8525 - val_loss: 0.4461 - val_accuracy: 0.8170\n",
      "Epoch 14/100\n",
      "5988/5988 [==============================] - 1s 222us/sample - loss: 0.3559 - accuracy: 0.8537 - val_loss: 0.4594 - val_accuracy: 0.8049\n",
      "Epoch 15/100\n",
      "5988/5988 [==============================] - 1s 216us/sample - loss: 0.3491 - accuracy: 0.8562 - val_loss: 0.4505 - val_accuracy: 0.8076\n",
      "Epoch 16/100\n",
      "5988/5988 [==============================] - 1s 224us/sample - loss: 0.3422 - accuracy: 0.8602 - val_loss: 0.4356 - val_accuracy: 0.8123\n",
      "CPU times: user 40.4 s, sys: 4.11 s, total: 44.5 s\n",
      "Wall time: 38 s\n"
     ]
    }
   ],
   "source": [
    "%%time\n",
    "\n",
    "# Fit the model\n",
    "history = model.fit(\n",
    "    x=X_train_seq,\n",
    "    y=y_train,\n",
    "    epochs=100,\n",
    "    validation_data=(X_valid_seq, y_valid),\n",
    "    callbacks=[checkpoint_cb, early_stopping_cb],\n",
    "    shuffle=True\n",
    "    )"
   ]
  },
  {
   "cell_type": "markdown",
   "metadata": {},
   "source": [
    "### Evaluate"
   ]
  },
  {
   "cell_type": "code",
   "execution_count": 45,
   "metadata": {},
   "outputs": [],
   "source": [
    "# Load weights of the best fitted\n",
    "model.load_weights(f'{PATH_CHECKPOINT}/glove.twitter.h5')"
   ]
  },
  {
   "cell_type": "code",
   "execution_count": 46,
   "metadata": {},
   "outputs": [
    {
     "name": "stdout",
     "output_type": "stream",
     "text": [
      "              precision    recall  f1-score   support\n",
      "\n",
      "           0    0.80121   0.90847   0.85147       874\n",
      "           1    0.84190   0.68379   0.75465       623\n",
      "\n",
      "    accuracy                        0.81496      1497\n",
      "   macro avg    0.82155   0.79613   0.80306      1497\n",
      "weighted avg    0.81814   0.81496   0.81118      1497\n",
      "\n"
     ]
    }
   ],
   "source": [
    "# Performance on the validation set\n",
    "y_pred = model.predict_classes(X_valid_seq)\n",
    "\n",
    "print(classification_report(y_valid, y_pred, digits=5))"
   ]
  },
  {
   "cell_type": "code",
   "execution_count": 47,
   "metadata": {},
   "outputs": [
    {
     "data": {
      "text/plain": [
       "0.7961274706061686"
      ]
     },
     "execution_count": 47,
     "metadata": {},
     "output_type": "execute_result"
    }
   ],
   "source": [
    "# AUC score\n",
    "roc_auc_score(y_valid, y_pred)"
   ]
  },
  {
   "cell_type": "markdown",
   "metadata": {},
   "source": [
    "### Predict"
   ]
  },
  {
   "cell_type": "code",
   "execution_count": 48,
   "metadata": {},
   "outputs": [],
   "source": [
    "# Preprocess the test data\n",
    "X_test_seq = tokenizer.texts_to_sequences(df_test_raw['text'].values)\n",
    "X_test_seq = pad_sequences(X_test_seq, padding='post', truncating='post', maxlen=40) \n",
    "\n",
    "# Predict the classes\n",
    "y_test = model.predict_classes(X_test_seq)\n",
    "\n",
    "# Prepare file for submission\n",
    "submission = pd.DataFrame({'id': df_test_raw['id'].values,\n",
    "                           'target': y_test[:,0]})\n",
    "submission.to_csv('submission_glove_twitter.csv', index=False)"
   ]
  },
  {
   "attachments": {
    "Screenshot%202020-05-31%20at%2010.45.29.png": {
     "image/png": "[encoded data removed]"
    }
   },
   "cell_type": "markdown",
   "metadata": {},
   "source": [
    "![Screenshot%202020-05-31%20at%2010.45.29.png](attachment:Screenshot%202020-05-31%20at%2010.45.29.png)"
   ]
  },
  {
   "cell_type": "markdown",
   "metadata": {},
   "source": [
    "# Summary\n",
    "\n",
    "<hr>\n",
    "\n",
    "| Experiment | Description | f1 (valid) | f1 (test) | auc (valid) |\n",
    "| --- | --- | --- | --- | --- |\n",
    "| 1 | nnlm-en-dim50 | .78688 | .76380 | .78311 |\n",
    "| 2 | glove (6B wiki) | .78977 | .79959 | .78341 |\n",
    "| 3 | glove (27B twitter) | .80306 | .79345 | .79613 |\n",
    "\n",
    "We can make use of a similar approach to business problems like identifying critical messages from customer reviews, calls and complaint logs. This can be framed as a binary classification problem with NLP. Without knowing the relevant costs (e.g., dissatisfied customer vs. case handling), we should find a model with a good precision/recall balance, i.e., high AUC score.\n",
    "\n",
    "With the two methods that we have examined, custom-build a RNN utilizing a pretrained word vectors (specialized for specific context, in this example, Twitter messages) has the best performance. By tuning the classification threshold, we can have a model optimized for the situation (e.g., highest recall with a certain level of precision).\n",
    "\n",
    "The TensorFlow Hub also provides other sentence encoder, some for specialized purpose such as question & answer, semantic similarity, multilingual, etc., which we may use for fast prototyping.\n",
    "\n",
    "<hr>"
   ]
  }
 ],
 "metadata": {
  "instance_type": "ml.g4dn.xlarge",
  "kernelspec": {
   "display_name": "Python 3 (TensorFlow 2 GPU Optimized)",
   "language": "python",
   "name": "python3__SAGEMAKER_INTERNAL__arn:aws:sagemaker:us-east-1:081325390199:image/tensorflow-2.1-gpu-py36"
  },
  "language_info": {
   "codemirror_mode": {
    "name": "ipython",
    "version": 3
   },
   "file_extension": ".py",
   "mimetype": "text/x-python",
   "name": "python",
   "nbconvert_exporter": "python",
   "pygments_lexer": "ipython3",
   "version": "3.6.9"
  },
  "toc": {
   "base_numbering": 1,
   "nav_menu": {},
   "number_sections": true,
   "sideBar": true,
   "skip_h1_title": false,
   "title_cell": "Table of Contents",
   "title_sidebar": "Contents",
   "toc_cell": false,
   "toc_position": {},
   "toc_section_display": true,
   "toc_window_display": false
  }
 },
 "nbformat": 4,
 "nbformat_minor": 4
}
